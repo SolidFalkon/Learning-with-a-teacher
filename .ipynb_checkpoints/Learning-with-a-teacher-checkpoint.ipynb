{
 "cells": [
  {
   "cell_type": "markdown",
   "metadata": {
    "toc": true
   },
   "source": [
    "<h1>Содержание<span class=\"tocSkip\"></span></h1>\n",
    "<div class=\"toc\"><ul class=\"toc-item\"><li><span><a href=\"#Подготовка-данных\" data-toc-modified-id=\"Подготовка-данных-1\"><span class=\"toc-item-num\">1&nbsp;&nbsp;</span>Подготовка данных</a></span></li><li><span><a href=\"#Исследование-задачи\" data-toc-modified-id=\"Исследование-задачи-2\"><span class=\"toc-item-num\">2&nbsp;&nbsp;</span>Исследование задачи</a></span></li><li><span><a href=\"#Борьба-с-дисбалансом\" data-toc-modified-id=\"Борьба-с-дисбалансом-3\"><span class=\"toc-item-num\">3&nbsp;&nbsp;</span>Борьба с дисбалансом</a></span></li><li><span><a href=\"#Тестирование-модели\" data-toc-modified-id=\"Тестирование-модели-4\"><span class=\"toc-item-num\">4&nbsp;&nbsp;</span>Тестирование модели</a></span></li><li><span><a href=\"#Чек-лист-готовности-проекта\" data-toc-modified-id=\"Чек-лист-готовности-проекта-5\"><span class=\"toc-item-num\">5&nbsp;&nbsp;</span>Чек-лист готовности проекта</a></span></li></ul></div>"
   ]
  },
  {
   "cell_type": "markdown",
   "metadata": {},
   "source": [
    "# Отток клиентов"
   ]
  },
  {
   "cell_type": "markdown",
   "metadata": {},
   "source": [
    "Из «Бета-Банка» стали уходить клиенты. Каждый месяц. Немного, но заметно. Банковские маркетологи посчитали: сохранять текущих клиентов дешевле, чем привлекать новых.\n",
    "\n",
    "Нужно спрогнозировать, уйдёт клиент из банка в ближайшее время или нет. Вам предоставлены исторические данные о поведении клиентов и расторжении договоров с банком. \n",
    "\n",
    "Постройте модель с предельно большим значением *F1*-меры. Чтобы сдать проект успешно, нужно довести метрику до 0.59. Проверьте *F1*-меру на тестовой выборке самостоятельно.\n",
    "\n",
    "Дополнительно измеряйте *AUC-ROC*, сравнивайте её значение с *F1*-мерой.\n",
    "\n",
    "Источник данных: [https://www.kaggle.com/barelydedicated/bank-customer-churn-modeling](https://www.kaggle.com/barelydedicated/bank-customer-churn-modeling)"
   ]
  },
  {
   "cell_type": "markdown",
   "metadata": {},
   "source": [
    "## Подготовка данных"
   ]
  },
  {
   "cell_type": "code",
   "execution_count": 1,
   "metadata": {},
   "outputs": [],
   "source": [
    "# Подключение библиотек\n",
    "import pandas as pd\n",
    "from sklearn.model_selection import train_test_split\n",
    "from sklearn.preprocessing import StandardScaler\n",
    "from sklearn.tree import DecisionTreeClassifier\n",
    "from sklearn.metrics import accuracy_score, f1_score, recall_score, precision_score, confusion_matrix, roc_auc_score\n",
    "from sklearn.ensemble import RandomForestClassifier\n",
    "from sklearn.linear_model import LogisticRegression \n",
    "from sklearn.utils import shuffle\n",
    "\n",
    "pd.options.mode.chained_assignment = None  # default='warn'"
   ]
  },
  {
   "cell_type": "code",
   "execution_count": 2,
   "metadata": {},
   "outputs": [
    {
     "data": {
      "text/html": [
       "<div>\n",
       "<style scoped>\n",
       "    .dataframe tbody tr th:only-of-type {\n",
       "        vertical-align: middle;\n",
       "    }\n",
       "\n",
       "    .dataframe tbody tr th {\n",
       "        vertical-align: top;\n",
       "    }\n",
       "\n",
       "    .dataframe thead th {\n",
       "        text-align: right;\n",
       "    }\n",
       "</style>\n",
       "<table border=\"1\" class=\"dataframe\">\n",
       "  <thead>\n",
       "    <tr style=\"text-align: right;\">\n",
       "      <th></th>\n",
       "      <th>RowNumber</th>\n",
       "      <th>CustomerId</th>\n",
       "      <th>Surname</th>\n",
       "      <th>CreditScore</th>\n",
       "      <th>Geography</th>\n",
       "      <th>Gender</th>\n",
       "      <th>Age</th>\n",
       "      <th>Tenure</th>\n",
       "      <th>Balance</th>\n",
       "      <th>NumOfProducts</th>\n",
       "      <th>HasCrCard</th>\n",
       "      <th>IsActiveMember</th>\n",
       "      <th>EstimatedSalary</th>\n",
       "      <th>Exited</th>\n",
       "    </tr>\n",
       "  </thead>\n",
       "  <tbody>\n",
       "    <tr>\n",
       "      <th>0</th>\n",
       "      <td>1</td>\n",
       "      <td>15634602</td>\n",
       "      <td>Hargrave</td>\n",
       "      <td>619</td>\n",
       "      <td>France</td>\n",
       "      <td>Female</td>\n",
       "      <td>42</td>\n",
       "      <td>2.0</td>\n",
       "      <td>0.00</td>\n",
       "      <td>1</td>\n",
       "      <td>1</td>\n",
       "      <td>1</td>\n",
       "      <td>101348.88</td>\n",
       "      <td>1</td>\n",
       "    </tr>\n",
       "    <tr>\n",
       "      <th>1</th>\n",
       "      <td>2</td>\n",
       "      <td>15647311</td>\n",
       "      <td>Hill</td>\n",
       "      <td>608</td>\n",
       "      <td>Spain</td>\n",
       "      <td>Female</td>\n",
       "      <td>41</td>\n",
       "      <td>1.0</td>\n",
       "      <td>83807.86</td>\n",
       "      <td>1</td>\n",
       "      <td>0</td>\n",
       "      <td>1</td>\n",
       "      <td>112542.58</td>\n",
       "      <td>0</td>\n",
       "    </tr>\n",
       "    <tr>\n",
       "      <th>2</th>\n",
       "      <td>3</td>\n",
       "      <td>15619304</td>\n",
       "      <td>Onio</td>\n",
       "      <td>502</td>\n",
       "      <td>France</td>\n",
       "      <td>Female</td>\n",
       "      <td>42</td>\n",
       "      <td>8.0</td>\n",
       "      <td>159660.80</td>\n",
       "      <td>3</td>\n",
       "      <td>1</td>\n",
       "      <td>0</td>\n",
       "      <td>113931.57</td>\n",
       "      <td>1</td>\n",
       "    </tr>\n",
       "    <tr>\n",
       "      <th>3</th>\n",
       "      <td>4</td>\n",
       "      <td>15701354</td>\n",
       "      <td>Boni</td>\n",
       "      <td>699</td>\n",
       "      <td>France</td>\n",
       "      <td>Female</td>\n",
       "      <td>39</td>\n",
       "      <td>1.0</td>\n",
       "      <td>0.00</td>\n",
       "      <td>2</td>\n",
       "      <td>0</td>\n",
       "      <td>0</td>\n",
       "      <td>93826.63</td>\n",
       "      <td>0</td>\n",
       "    </tr>\n",
       "    <tr>\n",
       "      <th>4</th>\n",
       "      <td>5</td>\n",
       "      <td>15737888</td>\n",
       "      <td>Mitchell</td>\n",
       "      <td>850</td>\n",
       "      <td>Spain</td>\n",
       "      <td>Female</td>\n",
       "      <td>43</td>\n",
       "      <td>2.0</td>\n",
       "      <td>125510.82</td>\n",
       "      <td>1</td>\n",
       "      <td>1</td>\n",
       "      <td>1</td>\n",
       "      <td>79084.10</td>\n",
       "      <td>0</td>\n",
       "    </tr>\n",
       "    <tr>\n",
       "      <th>5</th>\n",
       "      <td>6</td>\n",
       "      <td>15574012</td>\n",
       "      <td>Chu</td>\n",
       "      <td>645</td>\n",
       "      <td>Spain</td>\n",
       "      <td>Male</td>\n",
       "      <td>44</td>\n",
       "      <td>8.0</td>\n",
       "      <td>113755.78</td>\n",
       "      <td>2</td>\n",
       "      <td>1</td>\n",
       "      <td>0</td>\n",
       "      <td>149756.71</td>\n",
       "      <td>1</td>\n",
       "    </tr>\n",
       "    <tr>\n",
       "      <th>6</th>\n",
       "      <td>7</td>\n",
       "      <td>15592531</td>\n",
       "      <td>Bartlett</td>\n",
       "      <td>822</td>\n",
       "      <td>France</td>\n",
       "      <td>Male</td>\n",
       "      <td>50</td>\n",
       "      <td>7.0</td>\n",
       "      <td>0.00</td>\n",
       "      <td>2</td>\n",
       "      <td>1</td>\n",
       "      <td>1</td>\n",
       "      <td>10062.80</td>\n",
       "      <td>0</td>\n",
       "    </tr>\n",
       "    <tr>\n",
       "      <th>7</th>\n",
       "      <td>8</td>\n",
       "      <td>15656148</td>\n",
       "      <td>Obinna</td>\n",
       "      <td>376</td>\n",
       "      <td>Germany</td>\n",
       "      <td>Female</td>\n",
       "      <td>29</td>\n",
       "      <td>4.0</td>\n",
       "      <td>115046.74</td>\n",
       "      <td>4</td>\n",
       "      <td>1</td>\n",
       "      <td>0</td>\n",
       "      <td>119346.88</td>\n",
       "      <td>1</td>\n",
       "    </tr>\n",
       "    <tr>\n",
       "      <th>8</th>\n",
       "      <td>9</td>\n",
       "      <td>15792365</td>\n",
       "      <td>He</td>\n",
       "      <td>501</td>\n",
       "      <td>France</td>\n",
       "      <td>Male</td>\n",
       "      <td>44</td>\n",
       "      <td>4.0</td>\n",
       "      <td>142051.07</td>\n",
       "      <td>2</td>\n",
       "      <td>0</td>\n",
       "      <td>1</td>\n",
       "      <td>74940.50</td>\n",
       "      <td>0</td>\n",
       "    </tr>\n",
       "    <tr>\n",
       "      <th>9</th>\n",
       "      <td>10</td>\n",
       "      <td>15592389</td>\n",
       "      <td>H?</td>\n",
       "      <td>684</td>\n",
       "      <td>France</td>\n",
       "      <td>Male</td>\n",
       "      <td>27</td>\n",
       "      <td>2.0</td>\n",
       "      <td>134603.88</td>\n",
       "      <td>1</td>\n",
       "      <td>1</td>\n",
       "      <td>1</td>\n",
       "      <td>71725.73</td>\n",
       "      <td>0</td>\n",
       "    </tr>\n",
       "  </tbody>\n",
       "</table>\n",
       "</div>"
      ],
      "text/plain": [
       "   RowNumber  CustomerId   Surname  CreditScore Geography  Gender  Age  \\\n",
       "0          1    15634602  Hargrave          619    France  Female   42   \n",
       "1          2    15647311      Hill          608     Spain  Female   41   \n",
       "2          3    15619304      Onio          502    France  Female   42   \n",
       "3          4    15701354      Boni          699    France  Female   39   \n",
       "4          5    15737888  Mitchell          850     Spain  Female   43   \n",
       "5          6    15574012       Chu          645     Spain    Male   44   \n",
       "6          7    15592531  Bartlett          822    France    Male   50   \n",
       "7          8    15656148    Obinna          376   Germany  Female   29   \n",
       "8          9    15792365        He          501    France    Male   44   \n",
       "9         10    15592389        H?          684    France    Male   27   \n",
       "\n",
       "   Tenure    Balance  NumOfProducts  HasCrCard  IsActiveMember  \\\n",
       "0     2.0       0.00              1          1               1   \n",
       "1     1.0   83807.86              1          0               1   \n",
       "2     8.0  159660.80              3          1               0   \n",
       "3     1.0       0.00              2          0               0   \n",
       "4     2.0  125510.82              1          1               1   \n",
       "5     8.0  113755.78              2          1               0   \n",
       "6     7.0       0.00              2          1               1   \n",
       "7     4.0  115046.74              4          1               0   \n",
       "8     4.0  142051.07              2          0               1   \n",
       "9     2.0  134603.88              1          1               1   \n",
       "\n",
       "   EstimatedSalary  Exited  \n",
       "0        101348.88       1  \n",
       "1        112542.58       0  \n",
       "2        113931.57       1  \n",
       "3         93826.63       0  \n",
       "4         79084.10       0  \n",
       "5        149756.71       1  \n",
       "6         10062.80       0  \n",
       "7        119346.88       1  \n",
       "8         74940.50       0  \n",
       "9         71725.73       0  "
      ]
     },
     "metadata": {},
     "output_type": "display_data"
    },
    {
     "name": "stdout",
     "output_type": "stream",
     "text": [
      "<class 'pandas.core.frame.DataFrame'>\n",
      "RangeIndex: 10000 entries, 0 to 9999\n",
      "Data columns (total 14 columns):\n",
      " #   Column           Non-Null Count  Dtype  \n",
      "---  ------           --------------  -----  \n",
      " 0   RowNumber        10000 non-null  int64  \n",
      " 1   CustomerId       10000 non-null  int64  \n",
      " 2   Surname          10000 non-null  object \n",
      " 3   CreditScore      10000 non-null  int64  \n",
      " 4   Geography        10000 non-null  object \n",
      " 5   Gender           10000 non-null  object \n",
      " 6   Age              10000 non-null  int64  \n",
      " 7   Tenure           9091 non-null   float64\n",
      " 8   Balance          10000 non-null  float64\n",
      " 9   NumOfProducts    10000 non-null  int64  \n",
      " 10  HasCrCard        10000 non-null  int64  \n",
      " 11  IsActiveMember   10000 non-null  int64  \n",
      " 12  EstimatedSalary  10000 non-null  float64\n",
      " 13  Exited           10000 non-null  int64  \n",
      "dtypes: float64(3), int64(8), object(3)\n",
      "memory usage: 1.1+ MB\n"
     ]
    }
   ],
   "source": [
    "data = pd.read_csv('./datasets/Churn.csv')\n",
    "display(data.head(10))\n",
    "data.info()"
   ]
  },
  {
   "cell_type": "code",
   "execution_count": 3,
   "metadata": {},
   "outputs": [
    {
     "name": "stdout",
     "output_type": "stream",
     "text": [
      "0\n"
     ]
    }
   ],
   "source": [
    "# Проверим есть ли дубликаты\n",
    "print(data.duplicated().sum())"
   ]
  },
  {
   "cell_type": "code",
   "execution_count": 4,
   "metadata": {},
   "outputs": [
    {
     "name": "stdout",
     "output_type": "stream",
     "text": [
      "<class 'pandas.core.frame.DataFrame'>\n",
      "RangeIndex: 10000 entries, 0 to 9999\n",
      "Data columns (total 14 columns):\n",
      " #   Column           Non-Null Count  Dtype  \n",
      "---  ------           --------------  -----  \n",
      " 0   RowNumber        10000 non-null  int64  \n",
      " 1   CustomerId       10000 non-null  int64  \n",
      " 2   Surname          10000 non-null  object \n",
      " 3   CreditScore      10000 non-null  int64  \n",
      " 4   Geography        10000 non-null  object \n",
      " 5   Gender           10000 non-null  object \n",
      " 6   Age              10000 non-null  int64  \n",
      " 7   Tenure           10000 non-null  float64\n",
      " 8   Balance          10000 non-null  float64\n",
      " 9   NumOfProducts    10000 non-null  int64  \n",
      " 10  HasCrCard        10000 non-null  int64  \n",
      " 11  IsActiveMember   10000 non-null  int64  \n",
      " 12  EstimatedSalary  10000 non-null  float64\n",
      " 13  Exited           10000 non-null  int64  \n",
      "dtypes: float64(3), int64(8), object(3)\n",
      "memory usage: 1.1+ MB\n"
     ]
    }
   ],
   "source": [
    "# В столбце, показывающем сколько лет человек является клиентом банка, есть пропущенные данные,\n",
    "# Вероятно, что не прошло и года, как пользователь начали пользоваться банком, значит пропущенные данные\n",
    "# можно заменить на значение 0\n",
    "data['Tenure'] = data['Tenure'].fillna(data['Tenure'].median())\n",
    "data.info()"
   ]
  },
  {
   "cell_type": "markdown",
   "metadata": {},
   "source": [
    "**Предварительно осмотрев данные можно сделать следущие выводы:**\n",
    "  \n",
    "-   От столбца **RowNumber** можно избавиться, так как он повторяет индекс строки.\n",
    "-   От столбца **Surname** можно избавиться, так как он хранит множество уникальных категориальные данных о фамилиях клиентов, а преобразовывать его не имеет смысла, так как данные о фамилиях не важны в нашем исследовании.\n",
    "-   От столбца **CustomerId** можно избавиться, так как он не влияет на качество модели\n",
    "-   Столбец **Geography** имеет категориальные данные и важен для наших исследований, поэтому преобразуем его методом OHE\n",
    "-   Столбец **Gender** имеет категориальные данные и важен для наших исследований, поэтому преобразуем его методом OHE\n",
    "-   Столбец **Tenure** имел пропущенные значения, верояно, так как мы не знаем природу пропусков то пропущенные значения заменим на медианные значения."
   ]
  },
  {
   "cell_type": "code",
   "execution_count": 5,
   "metadata": {},
   "outputs": [
    {
     "data": {
      "text/html": [
       "<div>\n",
       "<style scoped>\n",
       "    .dataframe tbody tr th:only-of-type {\n",
       "        vertical-align: middle;\n",
       "    }\n",
       "\n",
       "    .dataframe tbody tr th {\n",
       "        vertical-align: top;\n",
       "    }\n",
       "\n",
       "    .dataframe thead th {\n",
       "        text-align: right;\n",
       "    }\n",
       "</style>\n",
       "<table border=\"1\" class=\"dataframe\">\n",
       "  <thead>\n",
       "    <tr style=\"text-align: right;\">\n",
       "      <th></th>\n",
       "      <th>CreditScore</th>\n",
       "      <th>Age</th>\n",
       "      <th>Tenure</th>\n",
       "      <th>Balance</th>\n",
       "      <th>NumOfProducts</th>\n",
       "      <th>HasCrCard</th>\n",
       "      <th>IsActiveMember</th>\n",
       "      <th>EstimatedSalary</th>\n",
       "      <th>Exited</th>\n",
       "      <th>Geography_Germany</th>\n",
       "      <th>Geography_Spain</th>\n",
       "      <th>Gender_Male</th>\n",
       "    </tr>\n",
       "  </thead>\n",
       "  <tbody>\n",
       "    <tr>\n",
       "      <th>0</th>\n",
       "      <td>619</td>\n",
       "      <td>42</td>\n",
       "      <td>2.0</td>\n",
       "      <td>0.00</td>\n",
       "      <td>1</td>\n",
       "      <td>1</td>\n",
       "      <td>1</td>\n",
       "      <td>101348.88</td>\n",
       "      <td>1</td>\n",
       "      <td>0</td>\n",
       "      <td>0</td>\n",
       "      <td>0</td>\n",
       "    </tr>\n",
       "    <tr>\n",
       "      <th>1</th>\n",
       "      <td>608</td>\n",
       "      <td>41</td>\n",
       "      <td>1.0</td>\n",
       "      <td>83807.86</td>\n",
       "      <td>1</td>\n",
       "      <td>0</td>\n",
       "      <td>1</td>\n",
       "      <td>112542.58</td>\n",
       "      <td>0</td>\n",
       "      <td>0</td>\n",
       "      <td>1</td>\n",
       "      <td>0</td>\n",
       "    </tr>\n",
       "    <tr>\n",
       "      <th>2</th>\n",
       "      <td>502</td>\n",
       "      <td>42</td>\n",
       "      <td>8.0</td>\n",
       "      <td>159660.80</td>\n",
       "      <td>3</td>\n",
       "      <td>1</td>\n",
       "      <td>0</td>\n",
       "      <td>113931.57</td>\n",
       "      <td>1</td>\n",
       "      <td>0</td>\n",
       "      <td>0</td>\n",
       "      <td>0</td>\n",
       "    </tr>\n",
       "    <tr>\n",
       "      <th>3</th>\n",
       "      <td>699</td>\n",
       "      <td>39</td>\n",
       "      <td>1.0</td>\n",
       "      <td>0.00</td>\n",
       "      <td>2</td>\n",
       "      <td>0</td>\n",
       "      <td>0</td>\n",
       "      <td>93826.63</td>\n",
       "      <td>0</td>\n",
       "      <td>0</td>\n",
       "      <td>0</td>\n",
       "      <td>0</td>\n",
       "    </tr>\n",
       "    <tr>\n",
       "      <th>4</th>\n",
       "      <td>850</td>\n",
       "      <td>43</td>\n",
       "      <td>2.0</td>\n",
       "      <td>125510.82</td>\n",
       "      <td>1</td>\n",
       "      <td>1</td>\n",
       "      <td>1</td>\n",
       "      <td>79084.10</td>\n",
       "      <td>0</td>\n",
       "      <td>0</td>\n",
       "      <td>1</td>\n",
       "      <td>0</td>\n",
       "    </tr>\n",
       "    <tr>\n",
       "      <th>5</th>\n",
       "      <td>645</td>\n",
       "      <td>44</td>\n",
       "      <td>8.0</td>\n",
       "      <td>113755.78</td>\n",
       "      <td>2</td>\n",
       "      <td>1</td>\n",
       "      <td>0</td>\n",
       "      <td>149756.71</td>\n",
       "      <td>1</td>\n",
       "      <td>0</td>\n",
       "      <td>1</td>\n",
       "      <td>1</td>\n",
       "    </tr>\n",
       "    <tr>\n",
       "      <th>6</th>\n",
       "      <td>822</td>\n",
       "      <td>50</td>\n",
       "      <td>7.0</td>\n",
       "      <td>0.00</td>\n",
       "      <td>2</td>\n",
       "      <td>1</td>\n",
       "      <td>1</td>\n",
       "      <td>10062.80</td>\n",
       "      <td>0</td>\n",
       "      <td>0</td>\n",
       "      <td>0</td>\n",
       "      <td>1</td>\n",
       "    </tr>\n",
       "    <tr>\n",
       "      <th>7</th>\n",
       "      <td>376</td>\n",
       "      <td>29</td>\n",
       "      <td>4.0</td>\n",
       "      <td>115046.74</td>\n",
       "      <td>4</td>\n",
       "      <td>1</td>\n",
       "      <td>0</td>\n",
       "      <td>119346.88</td>\n",
       "      <td>1</td>\n",
       "      <td>1</td>\n",
       "      <td>0</td>\n",
       "      <td>0</td>\n",
       "    </tr>\n",
       "    <tr>\n",
       "      <th>8</th>\n",
       "      <td>501</td>\n",
       "      <td>44</td>\n",
       "      <td>4.0</td>\n",
       "      <td>142051.07</td>\n",
       "      <td>2</td>\n",
       "      <td>0</td>\n",
       "      <td>1</td>\n",
       "      <td>74940.50</td>\n",
       "      <td>0</td>\n",
       "      <td>0</td>\n",
       "      <td>0</td>\n",
       "      <td>1</td>\n",
       "    </tr>\n",
       "    <tr>\n",
       "      <th>9</th>\n",
       "      <td>684</td>\n",
       "      <td>27</td>\n",
       "      <td>2.0</td>\n",
       "      <td>134603.88</td>\n",
       "      <td>1</td>\n",
       "      <td>1</td>\n",
       "      <td>1</td>\n",
       "      <td>71725.73</td>\n",
       "      <td>0</td>\n",
       "      <td>0</td>\n",
       "      <td>0</td>\n",
       "      <td>1</td>\n",
       "    </tr>\n",
       "  </tbody>\n",
       "</table>\n",
       "</div>"
      ],
      "text/plain": [
       "   CreditScore  Age  Tenure    Balance  NumOfProducts  HasCrCard  \\\n",
       "0          619   42     2.0       0.00              1          1   \n",
       "1          608   41     1.0   83807.86              1          0   \n",
       "2          502   42     8.0  159660.80              3          1   \n",
       "3          699   39     1.0       0.00              2          0   \n",
       "4          850   43     2.0  125510.82              1          1   \n",
       "5          645   44     8.0  113755.78              2          1   \n",
       "6          822   50     7.0       0.00              2          1   \n",
       "7          376   29     4.0  115046.74              4          1   \n",
       "8          501   44     4.0  142051.07              2          0   \n",
       "9          684   27     2.0  134603.88              1          1   \n",
       "\n",
       "   IsActiveMember  EstimatedSalary  Exited  Geography_Germany  \\\n",
       "0               1        101348.88       1                  0   \n",
       "1               1        112542.58       0                  0   \n",
       "2               0        113931.57       1                  0   \n",
       "3               0         93826.63       0                  0   \n",
       "4               1         79084.10       0                  0   \n",
       "5               0        149756.71       1                  0   \n",
       "6               1         10062.80       0                  0   \n",
       "7               0        119346.88       1                  1   \n",
       "8               1         74940.50       0                  0   \n",
       "9               1         71725.73       0                  0   \n",
       "\n",
       "   Geography_Spain  Gender_Male  \n",
       "0                0            0  \n",
       "1                1            0  \n",
       "2                0            0  \n",
       "3                0            0  \n",
       "4                1            0  \n",
       "5                1            1  \n",
       "6                0            1  \n",
       "7                0            0  \n",
       "8                0            1  \n",
       "9                0            1  "
      ]
     },
     "metadata": {},
     "output_type": "display_data"
    }
   ],
   "source": [
    "# Избавимся от ненужных в исследовании столбцов\n",
    "unnecessary_columns = ['RowNumber','CustomerId', 'Surname']\n",
    "necessary_data = data.drop(unnecessary_columns, axis=1)\n",
    "# Преобразуем категориальные признаки в численные с помощью техники OHE\n",
    "necessary_data = pd.get_dummies(necessary_data, drop_first=True)\n",
    "display(necessary_data.head(10))"
   ]
  },
  {
   "cell_type": "code",
   "execution_count": 6,
   "metadata": {},
   "outputs": [],
   "source": [
    "# Разобьем данные на признаки и целевой признак\n",
    "features = necessary_data.drop('Exited', axis=1)\n",
    "target = necessary_data['Exited']\n",
    "# Разделим данные на обучающую, валидационную и тестовую выборки\n",
    "features_train, features_valid_and_test, target_train, target_valid_and_test = train_test_split(\n",
    "    features, target, test_size=0.4, random_state=12345)\n",
    "features_valid, features_test, target_valid, target_test = train_test_split(\n",
    "    features_valid_and_test, target_valid_and_test, test_size=0.5, random_state=12345) "
   ]
  },
  {
   "cell_type": "markdown",
   "metadata": {},
   "source": [
    "**Вывод:**\n",
    "\n",
    "Мы избавились от не нужных нам данных, заменили пропуски, где они были, на данные, преобразовали категориальные признаки в численные и создали тестовую, валидационную и обучающую выборки"
   ]
  },
  {
   "cell_type": "markdown",
   "metadata": {},
   "source": [
    "## Исследование задачи"
   ]
  },
  {
   "cell_type": "code",
   "execution_count": 7,
   "metadata": {},
   "outputs": [],
   "source": [
    "#Маштабируем численные данные для построения модели\n",
    "numeric = ['CreditScore', 'Age', 'Tenure', 'Balance', 'NumOfProducts', 'EstimatedSalary']\n",
    "scaler = StandardScaler()\n",
    "scaler.fit(features_train[numeric])\n",
    "features_train[numeric] = scaler.transform(features_train[numeric])\n",
    "features_valid[numeric] = scaler.transform(features_valid[numeric])\n",
    "features_test[numeric] = scaler.transform(features_test[numeric])"
   ]
  },
  {
   "cell_type": "code",
   "execution_count": 8,
   "metadata": {},
   "outputs": [
    {
     "name": "stdout",
     "output_type": "stream",
     "text": [
      "Лучший показатель F1 у модели решающего дерева 0.5528700906344411 при максимальной глубине 4 и accuracy 0.852\n"
     ]
    }
   ],
   "source": [
    "#Исследование модели решающего дерева\n",
    "best_model_decision_tree = None\n",
    "best_depth_decision_tree = 0\n",
    "best_accuracy_decision_tree = 0\n",
    "best_predictions_valid_decision_tree = []\n",
    "best_f1_decision_tree = 0\n",
    "for depth in range(1, 6):\n",
    "    model = DecisionTreeClassifier(random_state=12345, max_depth=depth)\n",
    "    model.fit(features_train, target_train)\n",
    "    predictions_valid = model.predict(features_valid)\n",
    "    result = f1_score(target_valid, predictions_valid)\n",
    "    if result > best_f1_decision_tree:\n",
    "        best_model_decision_tree = model\n",
    "        best_depth_decision_tree = depth\n",
    "        best_accuracy_decision_tree = accuracy_score(target_valid, predictions_valid)\n",
    "        best_f1_decision_tree = result\n",
    "        best_predictions_valid_decision_tree = pd.Series(predictions_valid)\n",
    "print('Лучший показатель F1 у модели решающего дерева', best_f1_decision_tree, \n",
    "      'при максимальной глубине', best_depth_decision_tree, 'и accuracy', best_accuracy_decision_tree)"
   ]
  },
  {
   "cell_type": "code",
   "execution_count": 9,
   "metadata": {},
   "outputs": [
    {
     "name": "stdout",
     "output_type": "stream",
     "text": [
      "Лучший показатель F1 у модели случайного леса 0.5924812030075188 при количестве деревьев в лесу равном 11 и максимальой глубине 10 и accuracy 0.8645\n"
     ]
    }
   ],
   "source": [
    "#Исследование модели случайный лес\n",
    "best_model_random_forest = None\n",
    "best_est_random_forest = 0\n",
    "best_depth_random_forest = 0\n",
    "best_accuracy_random_forest = 0\n",
    "best_predictions_valid_random_forest = []\n",
    "best_f1_random_forest = 0\n",
    "for est in range(1, 50):\n",
    "    for depth in range(1, 11):\n",
    "        model = RandomForestClassifier(random_state=12345, n_estimators= est, max_depth=depth)\n",
    "        model.fit(features_train, target_train)\n",
    "        predictions_valid = model.predict(features_valid)\n",
    "        result = f1_score(target_valid, predictions_valid)\n",
    "        if result > best_f1_random_forest:\n",
    "            best_model_random_forest = model\n",
    "            best_est_random_forest = est\n",
    "            best_depth_random_forest = depth\n",
    "            best_accuracy_random_forest = accuracy_score(target_valid, predictions_valid)\n",
    "            best_f1_random_forest = result\n",
    "            best_predictions_valid_random_forest = pd.Series(predictions_valid)\n",
    "print('Лучший показатель F1 у модели случайного леса', best_f1_random_forest, \n",
    "      'при количестве деревьев в лесу равном', best_est_random_forest, \n",
    "      'и максимальой глубине', best_depth_random_forest, 'и accuracy', best_accuracy_random_forest)"
   ]
  },
  {
   "cell_type": "code",
   "execution_count": 10,
   "metadata": {},
   "outputs": [
    {
     "name": "stdout",
     "output_type": "stream",
     "text": [
      "Лучший показатель F1 у модели логистическая регрессия 0.33108108108108103 и accuracy 0.802\n"
     ]
    }
   ],
   "source": [
    "#Исследование модели логистическая регрессия\n",
    "best_model_logistic_regression = None\n",
    "best_model_logistic_regression = LogisticRegression(random_state=12345, solver='lbfgs', max_iter=1000)\n",
    "best_model_logistic_regression.fit(features_train, target_train) \n",
    "predictions_valid = best_model_logistic_regression.predict(features_valid)\n",
    "best_predictions_valid_logistic_regression = pd.Series(predictions_valid)\n",
    "best_accuracy_logistic_regression = accuracy_score(predictions_valid, target_valid)\n",
    "best_f1_logistic_regression = f1_score(target_valid, predictions_valid)\n",
    "print('Лучший показатель F1 у модели логистическая регрессия', best_f1_logistic_regression,\n",
    "     'и accuracy', best_accuracy_logistic_regression)"
   ]
  },
  {
   "cell_type": "code",
   "execution_count": 11,
   "metadata": {},
   "outputs": [
    {
     "name": "stdout",
     "output_type": "stream",
     "text": [
      "0    0.7963\n",
      "1    0.2037\n",
      "Name: Exited, dtype: float64\n"
     ]
    },
    {
     "data": {
      "text/plain": [
       "<AxesSubplot:>"
      ]
     },
     "execution_count": 11,
     "metadata": {},
     "output_type": "execute_result"
    },
    {
     "data": {
      "image/png": "[encoded data removed]",
      "text/plain": [
       "<Figure size 432x288 with 1 Axes>"
      ]
     },
     "metadata": {
      "needs_background": "light"
     },
     "output_type": "display_data"
    }
   ],
   "source": [
    "#Посмотрим соотношение классов в целевом признаке в исходных данных\n",
    "class_frequency = necessary_data['Exited'].value_counts(normalize = 1)\n",
    "print(class_frequency)\n",
    "class_frequency.plot(kind='bar') "
   ]
  },
  {
   "cell_type": "code",
   "execution_count": 12,
   "metadata": {},
   "outputs": [
    {
     "name": "stdout",
     "output_type": "stream",
     "text": [
      "0    0.800667\n",
      "1    0.199333\n",
      "Name: Exited, dtype: float64\n"
     ]
    },
    {
     "data": {
      "text/plain": [
       "<AxesSubplot:>"
      ]
     },
     "execution_count": 12,
     "metadata": {},
     "output_type": "execute_result"
    },
    {
     "data": {
      "image/png": "[encoded data removed]",
      "text/plain": [
       "<Figure size 432x288 with 1 Axes>"
      ]
     },
     "metadata": {
      "needs_background": "light"
     },
     "output_type": "display_data"
    }
   ],
   "source": [
    "#Проверим адекватность моделей\n",
    "#Посмотрим соотношение классов в целевом признаке в обучающей выборки\n",
    "class_frequency = target_train.value_counts(normalize = 1)\n",
    "print(class_frequency)\n",
    "class_frequency.plot(kind='bar') "
   ]
  },
  {
   "cell_type": "code",
   "execution_count": 13,
   "metadata": {},
   "outputs": [
    {
     "name": "stdout",
     "output_type": "stream",
     "text": [
      "0    0.791\n",
      "1    0.209\n",
      "Name: Exited, dtype: float64\n"
     ]
    },
    {
     "data": {
      "text/plain": [
       "<AxesSubplot:>"
      ]
     },
     "execution_count": 13,
     "metadata": {},
     "output_type": "execute_result"
    },
    {
     "data": {
      "image/png": "[encoded data removed]",
      "text/plain": [
       "<Figure size 432x288 with 1 Axes>"
      ]
     },
     "metadata": {
      "needs_background": "light"
     },
     "output_type": "display_data"
    }
   ],
   "source": [
    "#Проверим адекватность моделей\n",
    "#Посмотрим соотношение классов в целевом признаке в валидационной выборки\n",
    "class_frequency = target_valid.value_counts(normalize = 1)\n",
    "print(class_frequency)\n",
    "class_frequency.plot(kind='bar') "
   ]
  },
  {
   "cell_type": "code",
   "execution_count": 14,
   "metadata": {},
   "outputs": [
    {
     "name": "stdout",
     "output_type": "stream",
     "text": [
      "0    0.7885\n",
      "1    0.2115\n",
      "Name: Exited, dtype: float64\n"
     ]
    },
    {
     "data": {
      "text/plain": [
       "<AxesSubplot:>"
      ]
     },
     "execution_count": 14,
     "metadata": {},
     "output_type": "execute_result"
    },
    {
     "data": {
      "image/png": "[encoded data removed]",
      "text/plain": [
       "<Figure size 432x288 with 1 Axes>"
      ]
     },
     "metadata": {
      "needs_background": "light"
     },
     "output_type": "display_data"
    }
   ],
   "source": [
    "#Проверим адекватность моделей\n",
    "#Посмотрим соотношение классов в целевом признаке в тестовой выборки\n",
    "class_frequency = target_test.value_counts(normalize = 1)\n",
    "print(class_frequency)\n",
    "class_frequency.plot(kind='bar') "
   ]
  },
  {
   "cell_type": "markdown",
   "metadata": {},
   "source": [
    "Мы наблюдаем дисбаланс в сторону отрицательных ответов в исходныхх данных 80% к 20% и в выборках этот баланс соблюдается с максимальным отличием в 1% что допустимо"
   ]
  },
  {
   "cell_type": "code",
   "execution_count": 15,
   "metadata": {},
   "outputs": [
    {
     "name": "stdout",
     "output_type": "stream",
     "text": [
      "0    0.878\n",
      "1    0.122\n",
      "dtype: float64\n"
     ]
    },
    {
     "data": {
      "text/plain": [
       "<AxesSubplot:>"
      ]
     },
     "execution_count": 15,
     "metadata": {},
     "output_type": "execute_result"
    },
    {
     "data": {
      "image/png": "[encoded data removed]",
      "text/plain": [
       "<Figure size 432x288 with 1 Axes>"
      ]
     },
     "metadata": {
      "needs_background": "light"
     },
     "output_type": "display_data"
    }
   ],
   "source": [
    "# Проанализируем частоты классов в результатах предсказаний решающего дерева\n",
    "class_frequency = best_predictions_valid_decision_tree.value_counts(normalize = True)\n",
    "print(class_frequency)\n",
    "class_frequency.plot(kind='bar') "
   ]
  },
  {
   "cell_type": "markdown",
   "metadata": {},
   "source": [
    "Мы наблюдаем дисбаланс в сторону отрицательных ответов 89% к 11%"
   ]
  },
  {
   "cell_type": "code",
   "execution_count": 16,
   "metadata": {},
   "outputs": [
    {
     "name": "stdout",
     "output_type": "stream",
     "text": [
      "0    0.8765\n",
      "1    0.1235\n",
      "dtype: float64\n"
     ]
    },
    {
     "data": {
      "text/plain": [
       "<AxesSubplot:>"
      ]
     },
     "execution_count": 16,
     "metadata": {},
     "output_type": "execute_result"
    },
    {
     "data": {
      "image/png": "[encoded data removed]",
      "text/plain": [
       "<Figure size 432x288 with 1 Axes>"
      ]
     },
     "metadata": {
      "needs_background": "light"
     },
     "output_type": "display_data"
    }
   ],
   "source": [
    "# Проанализируем частоты классов в результатах предсказаний случайного леса\n",
    "class_frequency = best_predictions_valid_random_forest.value_counts(normalize = True)\n",
    "print(class_frequency)\n",
    "class_frequency.plot(kind='bar') "
   ]
  },
  {
   "cell_type": "markdown",
   "metadata": {},
   "source": [
    "Мы наблюдаем дисбаланс в сторону отрицательных ответов 88% к 12%"
   ]
  },
  {
   "cell_type": "code",
   "execution_count": 17,
   "metadata": {},
   "outputs": [
    {
     "name": "stdout",
     "output_type": "stream",
     "text": [
      "0    0.913\n",
      "1    0.087\n",
      "dtype: float64\n"
     ]
    },
    {
     "data": {
      "text/plain": [
       "<AxesSubplot:>"
      ]
     },
     "execution_count": 17,
     "metadata": {},
     "output_type": "execute_result"
    },
    {
     "data": {
      "image/png": "[encoded data removed]",
      "text/plain": [
       "<Figure size 432x288 with 1 Axes>"
      ]
     },
     "metadata": {
      "needs_background": "light"
     },
     "output_type": "display_data"
    }
   ],
   "source": [
    "# Проанализируем частоты классов в результатах предсказаний логистической регресси\n",
    "class_frequency = best_predictions_valid_logistic_regression.value_counts(normalize = True)\n",
    "print(class_frequency)\n",
    "class_frequency.plot(kind='bar') "
   ]
  },
  {
   "cell_type": "markdown",
   "metadata": {},
   "source": [
    "Мы наблюдаем дисбаланс в сторону отрицательных ответов 91% к 9%"
   ]
  },
  {
   "cell_type": "code",
   "execution_count": 18,
   "metadata": {},
   "outputs": [
    {
     "data": {
      "text/plain": [
       "0.791"
      ]
     },
     "execution_count": 18,
     "metadata": {},
     "output_type": "execute_result"
    }
   ],
   "source": [
    "#Создадим константную модель: любому объекту она прогнозирует класс «0» и посмотрим ее предсказания\n",
    "target_pred_constant = pd.Series(([0] * len(target_valid)))\n",
    "accuracy_score(target_valid, target_pred_constant)"
   ]
  },
  {
   "cell_type": "markdown",
   "metadata": {},
   "source": [
    "Мы однозначно можем сказать что модель логической регрессии не прошла проверку на адеватность так как в осноном она отдает предпочтение 0 и ее точность почти равна точности константной модели заполненой нулями, другие же 2 модели нельзя с уверенностью назвать не адекватными, но они все равно отдают слишком большое предпочтение отрицательным ответам, для дальнейшего изучения построим матрицы ошибок для моделей"
   ]
  },
  {
   "cell_type": "code",
   "execution_count": 19,
   "metadata": {},
   "outputs": [],
   "source": [
    "#функция для изучения полноты, точности и F1-меры\n",
    "def recall_precision_f1(target_valid, prediction):\n",
    "    print(\"Полнота\" , recall_score(target_valid, prediction))\n",
    "    print(\"Точность\", precision_score(target_valid, prediction))\n",
    "    print(\"F1-мера\", f1_score(target_valid, prediction))"
   ]
  },
  {
   "cell_type": "code",
   "execution_count": 20,
   "metadata": {},
   "outputs": [
    {
     "data": {
      "text/plain": [
       "array([[1521,   61],\n",
       "       [ 235,  183]], dtype=int64)"
      ]
     },
     "execution_count": 20,
     "metadata": {},
     "output_type": "execute_result"
    }
   ],
   "source": [
    "#Построим матрицу ошибок для решающего дерева\n",
    "confusion_matrix(target_valid, best_predictions_valid_decision_tree)"
   ]
  },
  {
   "cell_type": "code",
   "execution_count": 21,
   "metadata": {},
   "outputs": [
    {
     "data": {
      "text/plain": [
       "array([[1532,   50],\n",
       "       [ 221,  197]], dtype=int64)"
      ]
     },
     "execution_count": 21,
     "metadata": {},
     "output_type": "execute_result"
    }
   ],
   "source": [
    "#Построим матрицу ошибок для случайного леса\n",
    "confusion_matrix(target_valid, best_predictions_valid_random_forest)"
   ]
  },
  {
   "cell_type": "code",
   "execution_count": 22,
   "metadata": {},
   "outputs": [
    {
     "data": {
      "text/plain": [
       "array([[1506,   76],\n",
       "       [ 320,   98]], dtype=int64)"
      ]
     },
     "execution_count": 22,
     "metadata": {},
     "output_type": "execute_result"
    }
   ],
   "source": [
    "#Построим матрицу ошибок для логистической регрессии\n",
    "confusion_matrix(target_valid, best_predictions_valid_logistic_regression)"
   ]
  },
  {
   "cell_type": "markdown",
   "metadata": {},
   "source": [
    "Все 3 модели часто видят ложные ответы там где их нет (большой показатель FN)"
   ]
  },
  {
   "cell_type": "code",
   "execution_count": 23,
   "metadata": {
    "scrolled": false
   },
   "outputs": [
    {
     "name": "stdout",
     "output_type": "stream",
     "text": [
      "Полнота 0.43779904306220097\n",
      "Точность 0.75\n",
      "F1-мера 0.5528700906344411\n"
     ]
    }
   ],
   "source": [
    "#Выведим полноту, точность и F1 меру для решающего дерева\n",
    "recall_precision_f1(target_valid, best_predictions_valid_decision_tree)"
   ]
  },
  {
   "cell_type": "code",
   "execution_count": 24,
   "metadata": {
    "scrolled": true
   },
   "outputs": [
    {
     "name": "stdout",
     "output_type": "stream",
     "text": [
      "Полнота 0.47129186602870815\n",
      "Точность 0.7975708502024291\n",
      "F1-мера 0.5924812030075188\n"
     ]
    }
   ],
   "source": [
    "#Выведим полноту, точность и F1 меру для случайного леса\n",
    "recall_precision_f1(target_valid, best_predictions_valid_random_forest)"
   ]
  },
  {
   "cell_type": "code",
   "execution_count": 25,
   "metadata": {},
   "outputs": [
    {
     "name": "stdout",
     "output_type": "stream",
     "text": [
      "Полнота 0.23444976076555024\n",
      "Точность 0.5632183908045977\n",
      "F1-мера 0.33108108108108103\n"
     ]
    }
   ],
   "source": [
    "#Выведим полноту, точность и F1 меру для логистической регрессии\n",
    "recall_precision_f1(target_valid, best_predictions_valid_logistic_regression)"
   ]
  },
  {
   "cell_type": "code",
   "execution_count": 26,
   "metadata": {},
   "outputs": [],
   "source": [
    "#Напишем функцию для вывода AUC-ROC\n",
    "def print_auc_roc(features, target, model):\n",
    "    \n",
    "        valid = model.predict_proba(features)[:, 1]\n",
    "        auc_roc = roc_auc_score(target, valid)\n",
    "        return auc_roc"
   ]
  },
  {
   "cell_type": "code",
   "execution_count": 27,
   "metadata": {},
   "outputs": [
    {
     "name": "stdout",
     "output_type": "stream",
     "text": [
      "Показатель AUC-ROC модели решающего дерева равен: 0.813428129858032\n",
      "Показатель AUC-ROC модели случайного леса равен: 0.84822146879669\n",
      "Показатель AUC-ROC модели логистической регресси равен: 0.7588026784580114\n"
     ]
    }
   ],
   "source": [
    "#Выведим AUC-ROC всех моделей после обучения до борьбы с дисбалансом\n",
    "\n",
    "print('Показатель AUC-ROC модели решающего дерева равен:', \n",
    "      print_auc_roc(features_valid, target_valid, best_model_decision_tree))\n",
    "print('Показатель AUC-ROC модели случайного леса равен:', \n",
    "      print_auc_roc(features_valid, target_valid, best_model_random_forest))\n",
    "print('Показатель AUC-ROC модели логистической регресси равен:', \n",
    "      print_auc_roc(features_valid, target_valid, best_model_logistic_regression))"
   ]
  },
  {
   "cell_type": "markdown",
   "metadata": {},
   "source": [
    "Самые лучшие показатели наблюдаются у модели случайного леса, а худшие у логистической регрессии"
   ]
  },
  {
   "cell_type": "markdown",
   "metadata": {},
   "source": [
    "**Вывод**\n",
    "\n",
    "Без балансировки данных лучшие показатели у модели решающего дерева при количестве деревьев в лесу равном 11 и максимальой глубине 10, приступим к балансировке данных"
   ]
  },
  {
   "cell_type": "markdown",
   "metadata": {},
   "source": [
    "## Борьба с дисбалансом"
   ]
  },
  {
   "cell_type": "code",
   "execution_count": 28,
   "metadata": {},
   "outputs": [
    {
     "name": "stdout",
     "output_type": "stream",
     "text": [
      "(4804, 11)\n",
      "(1196, 11)\n",
      "(4804,)\n",
      "(1196,)\n"
     ]
    }
   ],
   "source": [
    "#Отобразим количество значений \"0\" и \"1\" в тестовых выборках\n",
    "features_zeros = features_train[target_train == 0] \n",
    "features_ones = features_train[target_train == 1] \n",
    "target_zeros = target_train.loc[ lambda x : (x == 0)]\n",
    "target_ones = target_train.loc[ lambda x : (x == 1)]\n",
    "\n",
    "print(features_zeros.shape)\n",
    "print(features_ones.shape)\n",
    "print(target_zeros.shape)\n",
    "print(target_ones.shape)"
   ]
  },
  {
   "cell_type": "markdown",
   "metadata": {},
   "source": [
    "Так как количество 0 больше, примерно, в 4 раза чем 1 то увеличим значение единиц в 4 раза"
   ]
  },
  {
   "cell_type": "code",
   "execution_count": 29,
   "metadata": {},
   "outputs": [
    {
     "name": "stdout",
     "output_type": "stream",
     "text": [
      "Лучшие показатели у модели решающего дерева с взвешиванием данных:\n",
      "Полнота 0.6698564593301436\n",
      "Точность 0.5374280230326296\n",
      "F1-мера 0.5963791267305644\n",
      "при максимальной глубине 5\n"
     ]
    }
   ],
   "source": [
    "#Исследование модели решающего дерева с взвешиванием данных\n",
    "best_model_decision_tree = None\n",
    "best_depth_decision_tree = 0\n",
    "best_predictions_valid_decision_tree = []\n",
    "best_f1_decision_tree = 0\n",
    "\n",
    "for depth in range(1, 6):\n",
    "    model = DecisionTreeClassifier(random_state=12345, max_depth=depth, class_weight='balanced')\n",
    "    model.fit(features_train, target_train)\n",
    "    predictions_valid = model.predict(features_valid)\n",
    "    result = f1_score(target_valid, predictions_valid)\n",
    "    if result > best_f1_decision_tree:\n",
    "        best_model_decision_tree = model\n",
    "        best_depth_decision_tree = depth\n",
    "        best_f1_decision_tree = result\n",
    "        best_predictions_valid_decision_tree = predictions_valid\n",
    "        \n",
    "print('Лучшие показатели у модели решающего дерева с взвешиванием данных:')\n",
    "recall_precision_f1(target_valid,  best_predictions_valid_decision_tree)\n",
    "print('при максимальной глубине', best_depth_decision_tree)"
   ]
  },
  {
   "cell_type": "code",
   "execution_count": 30,
   "metadata": {},
   "outputs": [
    {
     "name": "stdout",
     "output_type": "stream",
     "text": [
      "Лучшие показатели у модели случайного леса с взвешиванием данных:\n",
      "Полнота 0.6961722488038278\n",
      "Точность 0.5773809523809523\n",
      "F1-мера 0.631236442516269\n",
      "при количестве деревьев в лесу равном 47 и максимальной глубине 8\n"
     ]
    }
   ],
   "source": [
    "#Исследование модели случайного леса с взвешиванием данных\n",
    "best_model_random_forest = None\n",
    "best_est_random_forest = 0\n",
    "best_depth_random_forest = 0\n",
    "best_predictions_valid_random_forest = []\n",
    "best_f1_random_forest = 0\n",
    "for est in range(1, 50):\n",
    "    for depth in range(1, 11):\n",
    "        model = RandomForestClassifier(random_state=12345, n_estimators= est, max_depth=depth, class_weight='balanced')\n",
    "        model.fit(features_train, target_train)\n",
    "        predictions_valid = model.predict(features_valid)\n",
    "        result = f1_score(target_valid, predictions_valid)\n",
    "        if result > best_f1_random_forest:\n",
    "            best_model_random_forest = model\n",
    "            best_est_random_forest = est\n",
    "            best_depth_random_forest = depth\n",
    "            best_f1_random_forest = result\n",
    "            best_predictions_valid_random_forest = predictions_valid\n",
    "        \n",
    "print('Лучшие показатели у модели случайного леса с взвешиванием данных:')\n",
    "recall_precision_f1(target_valid,  best_predictions_valid_random_forest)\n",
    "print('при количестве деревьев в лесу равном', best_est_random_forest, 'и максимальной глубине', best_depth_random_forest)"
   ]
  },
  {
   "cell_type": "code",
   "execution_count": 31,
   "metadata": {},
   "outputs": [
    {
     "name": "stdout",
     "output_type": "stream",
     "text": [
      "Лучшие показатели у модели логистической регрессии с взвешиванием данных:\n",
      "Полнота 0.6818181818181818\n",
      "Точность 0.3810160427807487\n",
      "F1-мера 0.4888507718696398\n"
     ]
    }
   ],
   "source": [
    "#Исследование модели логистической регрессии с взвешиванием данных\n",
    "best_model_logistic_regression = None\n",
    "best_model_logistic_regression = LogisticRegression(random_state=12345, solver='lbfgs', max_iter=1000, class_weight='balanced')\n",
    "best_model_logistic_regression.fit(features_train, target_train) \n",
    "predictions_valid = best_model_logistic_regression.predict(features_valid)\n",
    "best_predictions_valid_logistic_regression = pd.Series(predictions_valid)\n",
    "best_f1_logistic_regression = f1_score(target_valid, predictions_valid)\n",
    "\n",
    "print('Лучшие показатели у модели логистической регрессии с взвешиванием данных:')\n",
    "recall_precision_f1(target_valid,  best_predictions_valid_logistic_regression)"
   ]
  },
  {
   "cell_type": "code",
   "execution_count": 32,
   "metadata": {},
   "outputs": [
    {
     "name": "stdout",
     "output_type": "stream",
     "text": [
      "Показатель AUC-ROC модели решающего дерева равен: 0.8310244134068074\n",
      "Показатель AUC-ROC модели случайного леса равен: 0.8553236470097206\n",
      "Показатель AUC-ROC модели логистической регресси равен: 0.7636811255814515\n"
     ]
    }
   ],
   "source": [
    "#Выведим AUC-ROC всех моделей после обучения и взвешивании данных\n",
    "\n",
    "print('Показатель AUC-ROC модели решающего дерева равен:', \n",
    "      print_auc_roc(features_valid, target_valid, best_model_decision_tree))\n",
    "print('Показатель AUC-ROC модели случайного леса равен:', \n",
    "      print_auc_roc(features_valid, target_valid, best_model_random_forest))\n",
    "print('Показатель AUC-ROC модели логистической регресси равен:', \n",
    "      print_auc_roc(features_valid, target_valid, best_model_logistic_regression))"
   ]
  },
  {
   "cell_type": "markdown",
   "metadata": {},
   "source": [
    "Мы видим что показатели F1 и AUC-ROC улучшились у всех моделей, но все еще лучшие показатели сохраняются у модели случайного леса, но изменилось количестве деревьев в лесу и максимальная глубина для достижения лучшего значения F1. Осалось проверить показатели моделей при апсемплинге"
   ]
  },
  {
   "cell_type": "code",
   "execution_count": 33,
   "metadata": {},
   "outputs": [
    {
     "name": "stdout",
     "output_type": "stream",
     "text": [
      "Отобразим количество значений \"0\" и \"1\" в тестовых выборках после апсемплинга\n",
      "(4804, 11)\n",
      "(4784, 11)\n",
      "(4804,)\n",
      "(4784,)\n"
     ]
    }
   ],
   "source": [
    "#Сбалансируем данные стелав их значение приближеным к пропорциям 50:50\n",
    "def upsample(features, target, repeat):\n",
    "    features_zeros = features[target == 0]\n",
    "    features_ones = features[target == 1]\n",
    "    target_zeros = target[target == 0]\n",
    "    target_ones = target[target == 1]\n",
    "\n",
    "    features_upsampled = pd.concat([features_zeros] + [features_ones] * repeat)\n",
    "    target_upsampled = pd.concat([target_zeros] + [target_ones] * repeat)\n",
    "    \n",
    "    features_upsampled, target_upsampled = shuffle(\n",
    "        features_upsampled, target_upsampled, random_state=12345)\n",
    "    \n",
    "    return features_upsampled, target_upsampled\n",
    "\n",
    "features_train_upsampled, target_train_upsampled = upsample(features_train, target_train, 4)\n",
    "\n",
    "features_zeros = features_train_upsampled[target_train_upsampled == 0] \n",
    "features_ones = features_train_upsampled[target_train_upsampled == 1] \n",
    "target_zeros = target_train_upsampled.loc[ lambda x : (x == 0)]\n",
    "target_ones = target_train_upsampled.loc[ lambda x : (x == 1)]\n",
    "\n",
    "print('Отобразим количество значений \"0\" и \"1\" в тестовых выборках после апсемплинга')\n",
    "print(features_zeros.shape)\n",
    "print(features_ones.shape)\n",
    "print(target_zeros.shape)\n",
    "print(target_ones.shape)"
   ]
  },
  {
   "cell_type": "markdown",
   "metadata": {},
   "source": [
    "У нас получилось соотнешение нулей и единиц сильно приближенное к  балансу 50:50"
   ]
  },
  {
   "cell_type": "code",
   "execution_count": 34,
   "metadata": {},
   "outputs": [
    {
     "name": "stdout",
     "output_type": "stream",
     "text": [
      "Лучшие показатели у модели решающего дерева с взвешиванием данных:\n",
      "Полнота 0.6746411483253588\n",
      "Точность 0.5381679389312977\n",
      "F1-мера 0.5987261146496814\n",
      "при максимальной глубине 5 и минимальном количеством выборок 5\n"
     ]
    }
   ],
   "source": [
    "#Исследование модели решающего дерева с сбалансированными данными\n",
    "best_model_decision_tree = None\n",
    "best_depth_decision_tree = 0\n",
    "best_predictions_valid_decision_tree = []\n",
    "best_f1_decision_tree = 0\n",
    "best_min_samples_leaf_dt = 0\n",
    "\n",
    "for depth in range(1, 11):\n",
    "    for m_samples in range (5, 20, 5):\n",
    "        model = DecisionTreeClassifier(random_state=12345, max_depth=depth, min_samples_leaf = m_samples)\n",
    "        model.fit(features_train_upsampled, target_train_upsampled)\n",
    "        predictions_valid = model.predict(features_valid)\n",
    "        result = f1_score(target_valid, predictions_valid)\n",
    "        if result > best_f1_decision_tree:\n",
    "            best_model_decision_tree = model\n",
    "            best_depth_decision_tree = depth\n",
    "            best_f1_decision_tree = result\n",
    "            best_predictions_valid_decision_tree = predictions_valid\n",
    "            best_min_samples_leaf_dt = m_samples\n",
    "        \n",
    "print('Лучшие показатели у модели решающего дерева с взвешиванием данных:')\n",
    "recall_precision_f1(target_valid,  best_predictions_valid_decision_tree)\n",
    "print('при максимальной глубине:', best_depth_decision_tree, 'и минимальном количеством выборок:', best_min_samples_leaf_dt)"
   ]
  },
  {
   "cell_type": "code",
   "execution_count": 35,
   "metadata": {},
   "outputs": [
    {
     "name": "stdout",
     "output_type": "stream",
     "text": [
      "Лучшие показатели у модели случайного леса с взвешиванием данных:\n",
      "Полнота 0.7105263157894737\n",
      "Точность 0.5678776290630975\n",
      "F1-мера 0.6312433581296492\n",
      "при количестве деревьев в лесу равном 67 и максимальной глубине 9\n"
     ]
    }
   ],
   "source": [
    "#Исследование модели случайного леса с сбалансированными данными\n",
    "best_model_random_forest = None\n",
    "best_est_random_forest = 0\n",
    "best_depth_random_forest = 0\n",
    "best_predictions_valid_random_forest = []\n",
    "best_f1_random_forest = 0\n",
    "for est in range(1, 75):\n",
    "    for depth in range(1, 16):\n",
    "        model = RandomForestClassifier(random_state=12345, n_estimators= est, max_depth=depth)\n",
    "        model.fit(features_train_upsampled, target_train_upsampled)\n",
    "        predictions_valid = model.predict(features_valid)\n",
    "        result = f1_score(target_valid, predictions_valid)\n",
    "        if result > best_f1_random_forest:\n",
    "            best_model_random_forest = model\n",
    "            best_est_random_forest = est\n",
    "            best_depth_random_forest = depth\n",
    "            best_f1_random_forest = result\n",
    "            best_predictions_valid_random_forest = predictions_valid\n",
    "        \n",
    "print('Лучшие показатели у модели случайного леса с взвешиванием данных:')\n",
    "recall_precision_f1(target_valid,  best_predictions_valid_random_forest)\n",
    "print('при количестве деревьев в лесу равном', best_est_random_forest, 'и максимальной глубине', best_depth_random_forest)"
   ]
  },
  {
   "cell_type": "code",
   "execution_count": 36,
   "metadata": {},
   "outputs": [
    {
     "name": "stdout",
     "output_type": "stream",
     "text": [
      "Лучшие показатели у модели логистической регрессии с взвешиванием данных:\n",
      "Полнота 0.6818181818181818\n",
      "Точность 0.3810160427807487\n",
      "F1-мера 0.4888507718696398\n",
      "При значении best_solver:  sag\n"
     ]
    }
   ],
   "source": [
    "#Исследование модели логистической регрессии с сбалансированными данными\n",
    "best_model_logistic_regression = None\n",
    "best_predictions_valid_logistic_regression = []\n",
    "best_f1_logistic_regression = 0\n",
    "best_solver = ''\n",
    "for solv in ['liblinear', 'lbfgs', 'sag']:\n",
    "    best_model_logistic_regression = LogisticRegression(random_state=12345, solver= solv, max_iter=1500)\n",
    "    best_model_logistic_regression.fit(features_train_upsampled, target_train_upsampled) \n",
    "    predictions_valid = best_model_logistic_regression.predict(features_valid)\n",
    "    best_predictions_valid_logistic_regression = pd.Series(predictions_valid)\n",
    "    result = f1_score(target_valid, predictions_valid)\n",
    "    if result > best_f1_logistic_regression:\n",
    "        best_model_random_forest = model\n",
    "        best_f1_random_forest = result\n",
    "        best_predictions_valid_random_forest = predictions_valid\n",
    "        best_solver = solv\n",
    "\n",
    "print('Лучшие показатели у модели логистической регрессии с взвешиванием данных:')\n",
    "recall_precision_f1(target_valid,  best_predictions_valid_logistic_regression)\n",
    "print('При значении best_solver: ', best_solver)"
   ]
  },
  {
   "cell_type": "code",
   "execution_count": 37,
   "metadata": {},
   "outputs": [
    {
     "name": "stdout",
     "output_type": "stream",
     "text": [
      "Показатель AUC-ROC модели решающего дерева равен: 0.8353985325340705\n",
      "Показатель AUC-ROC модели случайного леса равен: 0.8424916373798534\n",
      "Показатель AUC-ROC модели логистической регресси равен: 0.7636342465173391\n"
     ]
    }
   ],
   "source": [
    "#Выведим AUC-ROC всех моделей после обучения и балансировке данных\n",
    "\n",
    "print('Показатель AUC-ROC модели решающего дерева равен:', \n",
    "      print_auc_roc(features_valid, target_valid, best_model_decision_tree))\n",
    "print('Показатель AUC-ROC модели случайного леса равен:', \n",
    "      print_auc_roc(features_valid, target_valid, best_model_random_forest))\n",
    "print('Показатель AUC-ROC модели логистической регресси равен:', \n",
    "      print_auc_roc(features_valid, target_valid, best_model_logistic_regression))"
   ]
  },
  {
   "cell_type": "markdown",
   "metadata": {},
   "source": [
    "Показатели F1 моделей обученных на сбалансированных данных у моделей логистической регрессии и случайного леса улучшились а у решающего дерева ухудшился по сравнению с взвешиванием данных. При этом AUC-ROC моделей случайного леса и логистической регрессии совсем немного понизился по сравнение со взвешиванием"
   ]
  },
  {
   "cell_type": "code",
   "execution_count": 38,
   "metadata": {},
   "outputs": [],
   "source": [
    "# Так как лучшая модель окалазась модель случайного леса на сбалансированных\n",
    "# данных то ее сохраним в переменную best_model\n",
    "best_model = best_model_random_forest"
   ]
  },
  {
   "cell_type": "markdown",
   "metadata": {},
   "source": [
    "Лучшие показатели показала модель случайного леса обученной на сбалансированных данных: F1 = 0.6312433581296492, поэтому остановим свой выбор на ней"
   ]
  },
  {
   "cell_type": "markdown",
   "metadata": {},
   "source": [
    "## Тестирование модели"
   ]
  },
  {
   "cell_type": "code",
   "execution_count": 39,
   "metadata": {},
   "outputs": [
    {
     "name": "stdout",
     "output_type": "stream",
     "text": [
      "Показатели модели случайного леса на тестовой выборке:\n",
      "F1: 0.6025316455696202\n",
      "AUC-ROC: 0.8508599534382398\n"
     ]
    }
   ],
   "source": [
    "#Протестируем модель сравнив ее с константной\n",
    "#Рачитаем F1 и AUC-ROC на тестовой выборке\n",
    "predictions_test = best_model.predict(features_test)\n",
    "\n",
    "print('Показатели модели случайного леса на тестовой выборке:')\n",
    "\n",
    "print(\"F1:\", f1_score(target_test, predictions_test))\n",
    "\n",
    "best_model_upsampled_test = best_model.predict_proba(features_test)[:, 1]\n",
    "\n",
    "best_model_auc_roc = roc_auc_score(target_test, best_model_upsampled_test)\n",
    "\n",
    "predictions_test = best_model.predict(features_test)\n",
    "\n",
    "print('AUC-ROC:', best_model_auc_roc)"
   ]
  },
  {
   "cell_type": "code",
   "execution_count": 40,
   "metadata": {},
   "outputs": [
    {
     "name": "stdout",
     "output_type": "stream",
     "text": [
      "accuracy_score константой модели: 0.7885\n",
      "accuracy_score финальной модели: 0.843\n",
      "AUC-ROC константой модели: 0.5\n",
      "AUC-ROC финальной модели: 0.8508599534382398\n"
     ]
    }
   ],
   "source": [
    "#Создадим константную модель\n",
    "target_predict_constant = pd.Series([0]*len(target_test))\n",
    "#Сравним accuracy и AUC-ROC обученной модели и константной модели\n",
    "print('accuracy_score константой модели:', accuracy_score(target_test, target_predict_constant))\n",
    "print('accuracy_score финальной модели:', accuracy_score(target_test, predictions_test))\n",
    "print('AUC-ROC константой модели:', roc_auc_score(target_valid, target_predict_constant))\n",
    "print('AUC-ROC финальной модели:', best_model_auc_roc)"
   ]
  },
  {
   "cell_type": "markdown",
   "metadata": {},
   "source": [
    "Показатели нашей обученной модели больше чем константной, а значит проверку на адекватность она прошла"
   ]
  },
  {
   "cell_type": "markdown",
   "metadata": {},
   "source": [
    "**Вывод**\n",
    "\n",
    "-  Из-за дисбаланса ответов в негативну сторону в целевом признаке, обученная на них модель не проходила проверку на адекватность. Все модели на этих данных имели большую степень ошибок и низкое качество F1.\n",
    "- Мы устранили явный дисбаланс классов в обучающей выборки увеличив количество значений позитивного класса в 4 раза.\n",
    "- Разобрали несколько вариантов борьбы с дисбалансом upsampling и class_weight\n",
    "- На сбалансированных данных модель показала результаты лучше чем на исходных, для нашего исследования была выбрана модель случайного леса с показателями:\n",
    "лучшие показатели после балансировки данных:<br/>\n",
    "Полнота 0.7105263157894737<br/>\n",
    "Точность 0.5678776290630975<br/>\n",
    "F1-мера 0.6312433581296492<br/>\n",
    "AUC-ROC 0.8527619329901586<br/>\n",
    "- Так же итоговая модель полностью прошла проверку на адекватность на тестовых данных в сравнении с контантной моделью показав значения<br/>\n",
    "accuracy_score 0.8045<br/>\n",
    "F1: 0.604989604989605<br/>\n",
    "AUC-ROC: 0.8532854823549516<br/>\n",
    "Значит модель нас полностью устраивает"
   ]
  },
  {
   "cell_type": "markdown",
   "metadata": {},
   "source": [
    "## Чек-лист готовности проекта"
   ]
  },
  {
   "cell_type": "markdown",
   "metadata": {},
   "source": [
    "Поставьте 'x' в выполненных пунктах. Далее нажмите Shift+Enter."
   ]
  },
  {
   "cell_type": "markdown",
   "metadata": {},
   "source": [
    "- [x]  Jupyter Notebook открыт\n",
    "- [x]  Весь код выполняется без ошибок\n",
    "- [x]  Ячейки с кодом расположены в порядке исполнения\n",
    "- [x]  Выполнен шаг 1: данные подготовлены\n",
    "- [x]  Выполнен шаг 2: задача исследована\n",
    "    - [x]  Исследован баланс классов\n",
    "    - [x]  Изучены модели без учёта дисбаланса\n",
    "    - [x]  Написаны выводы по результатам исследования\n",
    "- [x]  Выполнен шаг 3: учтён дисбаланс\n",
    "    - [x]  Применено несколько способов борьбы с дисбалансом\n",
    "    - [x]  Написаны выводы по результатам исследования\n",
    "- [x]  Выполнен шаг 4: проведено тестирование\n",
    "- [x]  Удалось достичь *F1*-меры не менее 0.59\n",
    "- [x]  Исследована метрика *AUC-ROC*"
   ]
  },
  {
   "cell_type": "markdown",
   "metadata": {},
   "source": [
    "**Ссылка на GitHub:** https://github.com/SolidFalkon/Learning-with-a-teacher"
   ]
  }
 ],
 "metadata": {
  "ExecuteTimeLog": [
   {
    "duration": 93,
    "start_time": "2023-02-17T15:09:21.659Z"
   },
   {
    "duration": 449,
    "start_time": "2023-02-17T15:09:34.221Z"
   },
   {
    "duration": 117,
    "start_time": "2023-02-17T15:09:35.514Z"
   },
   {
    "duration": 74,
    "start_time": "2023-02-17T15:43:08.241Z"
   },
   {
    "duration": 12,
    "start_time": "2023-02-17T15:43:22.130Z"
   },
   {
    "duration": 4,
    "start_time": "2023-02-17T16:04:46.844Z"
   },
   {
    "duration": 13,
    "start_time": "2023-02-17T16:05:02.917Z"
   },
   {
    "duration": 9,
    "start_time": "2023-02-17T18:27:54.781Z"
   },
   {
    "duration": 20,
    "start_time": "2023-02-17T18:28:16.614Z"
   },
   {
    "duration": 10,
    "start_time": "2023-02-17T18:48:52.168Z"
   },
   {
    "duration": 1009,
    "start_time": "2023-02-17T18:49:31.453Z"
   },
   {
    "duration": 76,
    "start_time": "2023-02-17T18:49:32.464Z"
   },
   {
    "duration": 10,
    "start_time": "2023-02-17T18:49:32.542Z"
   },
   {
    "duration": 12,
    "start_time": "2023-02-17T18:49:32.554Z"
   },
   {
    "duration": 45,
    "start_time": "2023-02-17T18:49:32.568Z"
   },
   {
    "duration": 10,
    "start_time": "2023-02-17T18:49:32.614Z"
   },
   {
    "duration": 1075,
    "start_time": "2023-02-17T19:38:56.333Z"
   },
   {
    "duration": 64,
    "start_time": "2023-02-17T19:38:57.412Z"
   },
   {
    "duration": 11,
    "start_time": "2023-02-17T19:38:57.477Z"
   },
   {
    "duration": 13,
    "start_time": "2023-02-17T19:38:57.490Z"
   },
   {
    "duration": 21,
    "start_time": "2023-02-17T19:38:57.505Z"
   },
   {
    "duration": 10,
    "start_time": "2023-02-17T19:38:57.528Z"
   },
   {
    "duration": 139,
    "start_time": "2023-02-17T19:38:57.539Z"
   },
   {
    "duration": 0,
    "start_time": "2023-02-17T19:38:57.679Z"
   },
   {
    "duration": 1076,
    "start_time": "2023-02-17T19:39:25.232Z"
   },
   {
    "duration": 63,
    "start_time": "2023-02-17T19:39:26.310Z"
   },
   {
    "duration": 9,
    "start_time": "2023-02-17T19:39:26.377Z"
   },
   {
    "duration": 15,
    "start_time": "2023-02-17T19:39:26.388Z"
   },
   {
    "duration": 20,
    "start_time": "2023-02-17T19:39:26.405Z"
   },
   {
    "duration": 8,
    "start_time": "2023-02-17T19:39:26.427Z"
   },
   {
    "duration": 29,
    "start_time": "2023-02-17T19:39:26.436Z"
   },
   {
    "duration": 87,
    "start_time": "2023-02-17T19:39:26.467Z"
   },
   {
    "duration": 1026,
    "start_time": "2023-02-17T19:40:44.857Z"
   },
   {
    "duration": 62,
    "start_time": "2023-02-17T19:40:45.885Z"
   },
   {
    "duration": 10,
    "start_time": "2023-02-17T19:40:45.948Z"
   },
   {
    "duration": 11,
    "start_time": "2023-02-17T19:40:45.960Z"
   },
   {
    "duration": 36,
    "start_time": "2023-02-17T19:40:45.972Z"
   },
   {
    "duration": 9,
    "start_time": "2023-02-17T19:40:46.010Z"
   },
   {
    "duration": 28,
    "start_time": "2023-02-17T19:40:46.021Z"
   },
   {
    "duration": 74,
    "start_time": "2023-02-17T19:40:46.051Z"
   },
   {
    "duration": 3,
    "start_time": "2023-02-17T19:46:18.390Z"
   },
   {
    "duration": 67,
    "start_time": "2023-02-17T19:46:18.395Z"
   },
   {
    "duration": 9,
    "start_time": "2023-02-17T19:46:18.463Z"
   },
   {
    "duration": 11,
    "start_time": "2023-02-17T19:46:18.474Z"
   },
   {
    "duration": 21,
    "start_time": "2023-02-17T19:46:18.486Z"
   },
   {
    "duration": 10,
    "start_time": "2023-02-17T19:46:18.509Z"
   },
   {
    "duration": 25,
    "start_time": "2023-02-17T19:46:18.520Z"
   },
   {
    "duration": 80,
    "start_time": "2023-02-17T19:46:18.547Z"
   },
   {
    "duration": 97,
    "start_time": "2023-02-17T19:49:09.745Z"
   },
   {
    "duration": 1063,
    "start_time": "2023-02-17T19:49:51.057Z"
   },
   {
    "duration": 140,
    "start_time": "2023-02-17T19:49:52.122Z"
   },
   {
    "duration": 11,
    "start_time": "2023-02-17T19:49:52.263Z"
   },
   {
    "duration": 11,
    "start_time": "2023-02-17T19:49:52.276Z"
   },
   {
    "duration": 26,
    "start_time": "2023-02-17T19:49:52.289Z"
   },
   {
    "duration": 10,
    "start_time": "2023-02-17T19:49:52.316Z"
   },
   {
    "duration": 29,
    "start_time": "2023-02-17T19:49:52.328Z"
   },
   {
    "duration": 74,
    "start_time": "2023-02-17T19:49:52.359Z"
   },
   {
    "duration": 2677,
    "start_time": "2023-02-17T19:49:52.435Z"
   },
   {
    "duration": 197,
    "start_time": "2023-02-17T19:49:55.114Z"
   },
   {
    "duration": 111,
    "start_time": "2023-02-17T19:57:05.922Z"
   },
   {
    "duration": 6,
    "start_time": "2023-02-17T19:57:46.984Z"
   },
   {
    "duration": 1070,
    "start_time": "2023-02-17T19:59:47.190Z"
   },
   {
    "duration": 539,
    "start_time": "2023-02-17T20:01:15.100Z"
   },
   {
    "duration": 110,
    "start_time": "2023-02-17T20:04:25.071Z"
   },
   {
    "duration": 106,
    "start_time": "2023-02-17T20:04:45.119Z"
   },
   {
    "duration": 6,
    "start_time": "2023-02-17T20:04:46.754Z"
   },
   {
    "duration": 24,
    "start_time": "2023-02-17T20:09:57.001Z"
   },
   {
    "duration": 1107,
    "start_time": "2023-02-17T20:10:08.816Z"
   },
   {
    "duration": 66,
    "start_time": "2023-02-17T20:10:09.925Z"
   },
   {
    "duration": 11,
    "start_time": "2023-02-17T20:10:09.993Z"
   },
   {
    "duration": 11,
    "start_time": "2023-02-17T20:10:10.006Z"
   },
   {
    "duration": 22,
    "start_time": "2023-02-17T20:10:10.019Z"
   },
   {
    "duration": 9,
    "start_time": "2023-02-17T20:10:10.042Z"
   },
   {
    "duration": 27,
    "start_time": "2023-02-17T20:10:10.053Z"
   },
   {
    "duration": 130,
    "start_time": "2023-02-17T20:10:10.082Z"
   },
   {
    "duration": 0,
    "start_time": "2023-02-17T20:10:10.214Z"
   },
   {
    "duration": 0,
    "start_time": "2023-02-17T20:10:10.215Z"
   },
   {
    "duration": 0,
    "start_time": "2023-02-17T20:10:10.217Z"
   },
   {
    "duration": 0,
    "start_time": "2023-02-17T20:10:10.217Z"
   },
   {
    "duration": 0,
    "start_time": "2023-02-17T20:10:10.218Z"
   },
   {
    "duration": 61,
    "start_time": "2023-02-17T20:10:54.414Z"
   },
   {
    "duration": 1122,
    "start_time": "2023-02-17T20:10:59.432Z"
   },
   {
    "duration": 70,
    "start_time": "2023-02-17T20:11:00.556Z"
   },
   {
    "duration": 10,
    "start_time": "2023-02-17T20:11:00.628Z"
   },
   {
    "duration": 12,
    "start_time": "2023-02-17T20:11:00.639Z"
   },
   {
    "duration": 30,
    "start_time": "2023-02-17T20:11:00.653Z"
   },
   {
    "duration": 9,
    "start_time": "2023-02-17T20:11:00.704Z"
   },
   {
    "duration": 44,
    "start_time": "2023-02-17T20:11:00.715Z"
   },
   {
    "duration": 64,
    "start_time": "2023-02-17T20:11:00.761Z"
   },
   {
    "duration": 2780,
    "start_time": "2023-02-17T20:11:00.827Z"
   },
   {
    "duration": 102,
    "start_time": "2023-02-17T20:11:03.609Z"
   },
   {
    "duration": 613,
    "start_time": "2023-02-17T20:11:03.713Z"
   },
   {
    "duration": 116,
    "start_time": "2023-02-17T20:11:04.328Z"
   },
   {
    "duration": 6,
    "start_time": "2023-02-17T20:11:04.446Z"
   },
   {
    "duration": 13,
    "start_time": "2023-02-17T20:15:59.373Z"
   },
   {
    "duration": 57,
    "start_time": "2023-02-17T20:16:05.536Z"
   },
   {
    "duration": 7,
    "start_time": "2023-02-17T20:19:21.253Z"
   },
   {
    "duration": 3,
    "start_time": "2023-02-17T20:22:46.009Z"
   },
   {
    "duration": 59,
    "start_time": "2023-02-17T20:22:46.013Z"
   },
   {
    "duration": 10,
    "start_time": "2023-02-17T20:22:46.075Z"
   },
   {
    "duration": 17,
    "start_time": "2023-02-17T20:22:46.087Z"
   },
   {
    "duration": 21,
    "start_time": "2023-02-17T20:22:46.105Z"
   },
   {
    "duration": 8,
    "start_time": "2023-02-17T20:22:46.127Z"
   },
   {
    "duration": 24,
    "start_time": "2023-02-17T20:22:46.137Z"
   },
   {
    "duration": 82,
    "start_time": "2023-02-17T20:22:46.163Z"
   },
   {
    "duration": 2607,
    "start_time": "2023-02-17T20:22:46.247Z"
   },
   {
    "duration": 153,
    "start_time": "2023-02-17T20:22:48.856Z"
   },
   {
    "duration": 298,
    "start_time": "2023-02-17T20:22:49.011Z"
   },
   {
    "duration": 107,
    "start_time": "2023-02-17T20:22:49.311Z"
   },
   {
    "duration": 173,
    "start_time": "2023-02-17T20:22:49.420Z"
   },
   {
    "duration": 112,
    "start_time": "2023-02-17T20:22:49.595Z"
   },
   {
    "duration": 5,
    "start_time": "2023-02-17T20:22:49.709Z"
   },
   {
    "duration": 62,
    "start_time": "2023-02-18T12:59:11.016Z"
   },
   {
    "duration": 1180,
    "start_time": "2023-02-18T13:00:00.546Z"
   },
   {
    "duration": 198,
    "start_time": "2023-02-18T13:00:01.728Z"
   },
   {
    "duration": 12,
    "start_time": "2023-02-18T13:00:01.928Z"
   },
   {
    "duration": 33,
    "start_time": "2023-02-18T13:00:01.942Z"
   },
   {
    "duration": 24,
    "start_time": "2023-02-18T13:00:01.977Z"
   },
   {
    "duration": 11,
    "start_time": "2023-02-18T13:00:02.002Z"
   },
   {
    "duration": 78,
    "start_time": "2023-02-18T13:00:02.015Z"
   },
   {
    "duration": 62,
    "start_time": "2023-02-18T13:00:02.094Z"
   },
   {
    "duration": 2877,
    "start_time": "2023-02-18T13:00:02.158Z"
   },
   {
    "duration": 200,
    "start_time": "2023-02-18T13:00:05.037Z"
   },
   {
    "duration": 684,
    "start_time": "2023-02-18T13:00:05.239Z"
   },
   {
    "duration": 122,
    "start_time": "2023-02-18T13:00:05.925Z"
   },
   {
    "duration": 116,
    "start_time": "2023-02-18T13:00:06.048Z"
   },
   {
    "duration": 112,
    "start_time": "2023-02-18T13:00:06.168Z"
   },
   {
    "duration": 7,
    "start_time": "2023-02-18T13:00:06.282Z"
   },
   {
    "duration": 6,
    "start_time": "2023-02-18T13:00:06.291Z"
   },
   {
    "duration": 11,
    "start_time": "2023-02-18T13:00:06.299Z"
   },
   {
    "duration": 6,
    "start_time": "2023-02-18T13:03:24.422Z"
   },
   {
    "duration": 7,
    "start_time": "2023-02-18T13:03:57.114Z"
   },
   {
    "duration": 125,
    "start_time": "2023-02-18T13:22:11.901Z"
   },
   {
    "duration": 13,
    "start_time": "2023-02-18T13:22:22.681Z"
   },
   {
    "duration": 1164,
    "start_time": "2023-02-18T13:23:19.554Z"
   },
   {
    "duration": 72,
    "start_time": "2023-02-18T13:23:20.720Z"
   },
   {
    "duration": 11,
    "start_time": "2023-02-18T13:23:20.794Z"
   },
   {
    "duration": 17,
    "start_time": "2023-02-18T13:23:20.809Z"
   },
   {
    "duration": 25,
    "start_time": "2023-02-18T13:23:20.836Z"
   },
   {
    "duration": 11,
    "start_time": "2023-02-18T13:23:20.863Z"
   },
   {
    "duration": 31,
    "start_time": "2023-02-18T13:23:20.876Z"
   },
   {
    "duration": 95,
    "start_time": "2023-02-18T13:23:20.909Z"
   },
   {
    "duration": 2848,
    "start_time": "2023-02-18T13:23:21.006Z"
   },
   {
    "duration": 184,
    "start_time": "2023-02-18T13:23:23.858Z"
   },
   {
    "duration": 561,
    "start_time": "2023-02-18T13:23:24.043Z"
   },
   {
    "duration": 106,
    "start_time": "2023-02-18T13:23:24.606Z"
   },
   {
    "duration": 111,
    "start_time": "2023-02-18T13:23:24.714Z"
   },
   {
    "duration": 107,
    "start_time": "2023-02-18T13:23:24.836Z"
   },
   {
    "duration": 6,
    "start_time": "2023-02-18T13:23:24.945Z"
   },
   {
    "duration": 22,
    "start_time": "2023-02-18T13:23:24.953Z"
   },
   {
    "duration": 42,
    "start_time": "2023-02-18T13:23:24.976Z"
   },
   {
    "duration": 30,
    "start_time": "2023-02-18T13:23:25.019Z"
   },
   {
    "duration": 34,
    "start_time": "2023-02-18T13:23:25.050Z"
   },
   {
    "duration": 23,
    "start_time": "2023-02-18T13:23:25.086Z"
   },
   {
    "duration": 13,
    "start_time": "2023-02-18T13:38:48.457Z"
   },
   {
    "duration": 12,
    "start_time": "2023-02-18T13:38:50.033Z"
   },
   {
    "duration": 65,
    "start_time": "2023-02-18T14:05:21.971Z"
   },
   {
    "duration": 8,
    "start_time": "2023-02-18T14:14:34.885Z"
   },
   {
    "duration": 127,
    "start_time": "2023-02-18T14:24:02.737Z"
   },
   {
    "duration": 1070,
    "start_time": "2023-02-18T14:24:32.461Z"
   },
   {
    "duration": 82,
    "start_time": "2023-02-18T14:24:33.533Z"
   },
   {
    "duration": 12,
    "start_time": "2023-02-18T14:24:33.617Z"
   },
   {
    "duration": 13,
    "start_time": "2023-02-18T14:24:33.632Z"
   },
   {
    "duration": 32,
    "start_time": "2023-02-18T14:24:33.647Z"
   },
   {
    "duration": 9,
    "start_time": "2023-02-18T14:24:33.680Z"
   },
   {
    "duration": 27,
    "start_time": "2023-02-18T14:24:33.690Z"
   },
   {
    "duration": 74,
    "start_time": "2023-02-18T14:24:33.719Z"
   },
   {
    "duration": 2754,
    "start_time": "2023-02-18T14:24:33.795Z"
   },
   {
    "duration": 194,
    "start_time": "2023-02-18T14:24:36.551Z"
   },
   {
    "duration": 491,
    "start_time": "2023-02-18T14:24:36.837Z"
   },
   {
    "duration": 118,
    "start_time": "2023-02-18T14:24:37.330Z"
   },
   {
    "duration": 123,
    "start_time": "2023-02-18T14:24:37.450Z"
   },
   {
    "duration": 109,
    "start_time": "2023-02-18T14:24:37.575Z"
   },
   {
    "duration": 7,
    "start_time": "2023-02-18T14:24:37.686Z"
   },
   {
    "duration": 6,
    "start_time": "2023-02-18T14:24:37.695Z"
   },
   {
    "duration": 10,
    "start_time": "2023-02-18T14:24:37.703Z"
   },
   {
    "duration": 8,
    "start_time": "2023-02-18T14:24:37.738Z"
   },
   {
    "duration": 12,
    "start_time": "2023-02-18T14:24:37.748Z"
   },
   {
    "duration": 10,
    "start_time": "2023-02-18T14:24:37.763Z"
   },
   {
    "duration": 18,
    "start_time": "2023-02-18T14:24:37.774Z"
   },
   {
    "duration": 15,
    "start_time": "2023-02-18T14:24:37.794Z"
   },
   {
    "duration": 78,
    "start_time": "2023-02-18T14:24:37.811Z"
   },
   {
    "duration": 105,
    "start_time": "2023-02-18T14:24:37.891Z"
   },
   {
    "duration": 75,
    "start_time": "2023-02-18T14:24:37.998Z"
   },
   {
    "duration": 55,
    "start_time": "2023-02-18T14:27:07.088Z"
   },
   {
    "duration": 55,
    "start_time": "2023-02-18T14:27:51.031Z"
   },
   {
    "duration": 71,
    "start_time": "2023-02-18T14:29:36.094Z"
   },
   {
    "duration": 91,
    "start_time": "2023-02-18T14:29:42.866Z"
   },
   {
    "duration": 82,
    "start_time": "2023-02-18T14:29:48.562Z"
   },
   {
    "duration": 95,
    "start_time": "2023-02-18T14:29:53.915Z"
   },
   {
    "duration": 81,
    "start_time": "2023-02-18T14:29:57.415Z"
   },
   {
    "duration": 77,
    "start_time": "2023-02-18T14:30:00.441Z"
   },
   {
    "duration": 76,
    "start_time": "2023-02-18T14:45:43.493Z"
   },
   {
    "duration": 76,
    "start_time": "2023-02-18T14:45:49.138Z"
   },
   {
    "duration": 75,
    "start_time": "2023-02-18T14:45:53.433Z"
   },
   {
    "duration": 73,
    "start_time": "2023-02-18T14:46:02.538Z"
   },
   {
    "duration": 80,
    "start_time": "2023-02-18T14:48:30.030Z"
   },
   {
    "duration": 74,
    "start_time": "2023-02-18T14:48:39.241Z"
   },
   {
    "duration": 82,
    "start_time": "2023-02-18T15:01:02.992Z"
   },
   {
    "duration": 73,
    "start_time": "2023-02-18T15:01:07.886Z"
   },
   {
    "duration": 118,
    "start_time": "2023-02-18T15:01:43.097Z"
   },
   {
    "duration": 83,
    "start_time": "2023-02-18T15:01:55.261Z"
   },
   {
    "duration": 84,
    "start_time": "2023-02-18T15:02:00.691Z"
   },
   {
    "duration": 48,
    "start_time": "2023-02-18T15:02:25.428Z"
   },
   {
    "duration": 80,
    "start_time": "2023-02-18T15:02:29.932Z"
   },
   {
    "duration": 78,
    "start_time": "2023-02-18T15:02:34.953Z"
   },
   {
    "duration": 99,
    "start_time": "2023-02-18T15:02:42.666Z"
   },
   {
    "duration": 70,
    "start_time": "2023-02-18T15:03:30.331Z"
   },
   {
    "duration": 73,
    "start_time": "2023-02-18T15:03:40.135Z"
   },
   {
    "duration": 75,
    "start_time": "2023-02-18T15:04:51.949Z"
   },
   {
    "duration": 10,
    "start_time": "2023-02-18T15:05:04.231Z"
   },
   {
    "duration": 10,
    "start_time": "2023-02-18T15:06:36.298Z"
   },
   {
    "duration": 1149,
    "start_time": "2023-02-18T15:06:43.176Z"
   },
   {
    "duration": 71,
    "start_time": "2023-02-18T15:06:44.327Z"
   },
   {
    "duration": 12,
    "start_time": "2023-02-18T15:06:44.400Z"
   },
   {
    "duration": 26,
    "start_time": "2023-02-18T15:06:44.415Z"
   },
   {
    "duration": 44,
    "start_time": "2023-02-18T15:06:44.443Z"
   },
   {
    "duration": 24,
    "start_time": "2023-02-18T15:06:44.489Z"
   },
   {
    "duration": 33,
    "start_time": "2023-02-18T15:06:44.515Z"
   },
   {
    "duration": 62,
    "start_time": "2023-02-18T15:06:44.549Z"
   },
   {
    "duration": 2997,
    "start_time": "2023-02-18T15:06:44.613Z"
   },
   {
    "duration": 224,
    "start_time": "2023-02-18T15:06:47.613Z"
   },
   {
    "duration": 485,
    "start_time": "2023-02-18T15:06:47.840Z"
   },
   {
    "duration": 111,
    "start_time": "2023-02-18T15:06:48.327Z"
   },
   {
    "duration": 119,
    "start_time": "2023-02-18T15:06:48.440Z"
   },
   {
    "duration": 123,
    "start_time": "2023-02-18T15:06:48.561Z"
   },
   {
    "duration": 7,
    "start_time": "2023-02-18T15:06:48.685Z"
   },
   {
    "duration": 9,
    "start_time": "2023-02-18T15:06:48.693Z"
   },
   {
    "duration": 18,
    "start_time": "2023-02-18T15:06:48.705Z"
   },
   {
    "duration": 31,
    "start_time": "2023-02-18T15:06:48.726Z"
   },
   {
    "duration": 25,
    "start_time": "2023-02-18T15:06:48.759Z"
   },
   {
    "duration": 17,
    "start_time": "2023-02-18T15:06:48.786Z"
   },
   {
    "duration": 12,
    "start_time": "2023-02-18T15:06:48.806Z"
   },
   {
    "duration": 21,
    "start_time": "2023-02-18T15:06:48.820Z"
   },
   {
    "duration": 79,
    "start_time": "2023-02-18T15:06:48.844Z"
   },
   {
    "duration": 114,
    "start_time": "2023-02-18T15:06:48.925Z"
   },
   {
    "duration": 82,
    "start_time": "2023-02-18T15:06:49.041Z"
   },
   {
    "duration": 138,
    "start_time": "2023-02-18T15:06:49.124Z"
   },
   {
    "duration": 1050,
    "start_time": "2023-02-18T15:08:06.196Z"
   },
   {
    "duration": 69,
    "start_time": "2023-02-18T15:08:07.248Z"
   },
   {
    "duration": 12,
    "start_time": "2023-02-18T15:08:07.319Z"
   },
   {
    "duration": 13,
    "start_time": "2023-02-18T15:08:07.333Z"
   },
   {
    "duration": 23,
    "start_time": "2023-02-18T15:08:07.348Z"
   },
   {
    "duration": 11,
    "start_time": "2023-02-18T15:08:07.372Z"
   },
   {
    "duration": 53,
    "start_time": "2023-02-18T15:08:07.385Z"
   },
   {
    "duration": 62,
    "start_time": "2023-02-18T15:08:07.439Z"
   },
   {
    "duration": 2758,
    "start_time": "2023-02-18T15:08:07.502Z"
   },
   {
    "duration": 278,
    "start_time": "2023-02-18T15:08:10.263Z"
   },
   {
    "duration": 536,
    "start_time": "2023-02-18T15:08:10.543Z"
   },
   {
    "duration": 107,
    "start_time": "2023-02-18T15:08:11.081Z"
   },
   {
    "duration": 103,
    "start_time": "2023-02-18T15:08:11.190Z"
   },
   {
    "duration": 115,
    "start_time": "2023-02-18T15:08:11.295Z"
   },
   {
    "duration": 7,
    "start_time": "2023-02-18T15:08:11.411Z"
   },
   {
    "duration": 26,
    "start_time": "2023-02-18T15:08:11.419Z"
   },
   {
    "duration": 9,
    "start_time": "2023-02-18T15:08:11.446Z"
   },
   {
    "duration": 10,
    "start_time": "2023-02-18T15:08:11.457Z"
   },
   {
    "duration": 9,
    "start_time": "2023-02-18T15:08:11.468Z"
   },
   {
    "duration": 10,
    "start_time": "2023-02-18T15:08:11.478Z"
   },
   {
    "duration": 8,
    "start_time": "2023-02-18T15:08:11.489Z"
   },
   {
    "duration": 12,
    "start_time": "2023-02-18T15:08:11.498Z"
   },
   {
    "duration": 80,
    "start_time": "2023-02-18T15:08:11.511Z"
   },
   {
    "duration": 95,
    "start_time": "2023-02-18T15:08:11.593Z"
   },
   {
    "duration": 93,
    "start_time": "2023-02-18T15:08:11.690Z"
   },
   {
    "duration": 121,
    "start_time": "2023-02-18T15:08:11.784Z"
   },
   {
    "duration": 12,
    "start_time": "2023-02-18T15:08:35.092Z"
   },
   {
    "duration": 52,
    "start_time": "2023-02-18T15:21:14.065Z"
   },
   {
    "duration": 84,
    "start_time": "2023-02-18T15:21:20.002Z"
   },
   {
    "duration": 71,
    "start_time": "2023-02-18T15:21:28.492Z"
   },
   {
    "duration": 81,
    "start_time": "2023-02-18T15:21:31.848Z"
   },
   {
    "duration": 80,
    "start_time": "2023-02-18T15:21:37.274Z"
   },
   {
    "duration": 82,
    "start_time": "2023-02-18T15:21:41.449Z"
   },
   {
    "duration": 84,
    "start_time": "2023-02-18T15:22:46.053Z"
   },
   {
    "duration": 77,
    "start_time": "2023-02-18T15:22:54.943Z"
   },
   {
    "duration": 11,
    "start_time": "2023-02-18T15:30:37.675Z"
   },
   {
    "duration": 20,
    "start_time": "2023-02-18T15:33:31.534Z"
   },
   {
    "duration": 1117,
    "start_time": "2023-02-18T15:34:21.375Z"
   },
   {
    "duration": 69,
    "start_time": "2023-02-18T15:34:22.494Z"
   },
   {
    "duration": 11,
    "start_time": "2023-02-18T15:34:22.565Z"
   },
   {
    "duration": 13,
    "start_time": "2023-02-18T15:34:22.578Z"
   },
   {
    "duration": 22,
    "start_time": "2023-02-18T15:34:22.592Z"
   },
   {
    "duration": 10,
    "start_time": "2023-02-18T15:34:22.637Z"
   },
   {
    "duration": 28,
    "start_time": "2023-02-18T15:34:22.649Z"
   },
   {
    "duration": 80,
    "start_time": "2023-02-18T15:34:22.678Z"
   },
   {
    "duration": 2679,
    "start_time": "2023-02-18T15:34:22.760Z"
   },
   {
    "duration": 103,
    "start_time": "2023-02-18T15:34:25.442Z"
   },
   {
    "duration": 563,
    "start_time": "2023-02-18T15:34:25.547Z"
   },
   {
    "duration": 98,
    "start_time": "2023-02-18T15:34:26.112Z"
   },
   {
    "duration": 104,
    "start_time": "2023-02-18T15:34:26.212Z"
   },
   {
    "duration": 105,
    "start_time": "2023-02-18T15:34:26.318Z"
   },
   {
    "duration": 5,
    "start_time": "2023-02-18T15:34:26.436Z"
   },
   {
    "duration": 24,
    "start_time": "2023-02-18T15:34:26.443Z"
   },
   {
    "duration": 24,
    "start_time": "2023-02-18T15:34:26.468Z"
   },
   {
    "duration": 32,
    "start_time": "2023-02-18T15:34:26.494Z"
   },
   {
    "duration": 27,
    "start_time": "2023-02-18T15:34:26.528Z"
   },
   {
    "duration": 29,
    "start_time": "2023-02-18T15:34:26.558Z"
   },
   {
    "duration": 20,
    "start_time": "2023-02-18T15:34:26.589Z"
   },
   {
    "duration": 25,
    "start_time": "2023-02-18T15:34:26.611Z"
   },
   {
    "duration": 16,
    "start_time": "2023-02-18T15:34:26.638Z"
   },
   {
    "duration": 159,
    "start_time": "2023-02-18T15:34:26.655Z"
   },
   {
    "duration": 20,
    "start_time": "2023-02-18T15:34:26.816Z"
   },
   {
    "duration": 24,
    "start_time": "2023-02-18T15:34:26.838Z"
   },
   {
    "duration": 51884,
    "start_time": "2023-02-18T15:35:42.563Z"
   },
   {
    "duration": 1115,
    "start_time": "2023-02-18T15:37:46.247Z"
   },
   {
    "duration": 69,
    "start_time": "2023-02-18T15:37:47.364Z"
   },
   {
    "duration": 11,
    "start_time": "2023-02-18T15:37:47.435Z"
   },
   {
    "duration": 12,
    "start_time": "2023-02-18T15:37:47.448Z"
   },
   {
    "duration": 22,
    "start_time": "2023-02-18T15:37:47.462Z"
   },
   {
    "duration": 10,
    "start_time": "2023-02-18T15:37:47.486Z"
   },
   {
    "duration": 63,
    "start_time": "2023-02-18T15:37:47.497Z"
   },
   {
    "duration": 75,
    "start_time": "2023-02-18T15:37:47.562Z"
   },
   {
    "duration": 50752,
    "start_time": "2023-02-18T15:37:47.639Z"
   },
   {
    "duration": 344,
    "start_time": "2023-02-18T15:38:38.394Z"
   },
   {
    "duration": 401,
    "start_time": "2023-02-18T15:38:38.742Z"
   },
   {
    "duration": 105,
    "start_time": "2023-02-18T15:38:39.145Z"
   },
   {
    "duration": 206,
    "start_time": "2023-02-18T15:38:39.251Z"
   },
   {
    "duration": 116,
    "start_time": "2023-02-18T15:38:39.459Z"
   },
   {
    "duration": 7,
    "start_time": "2023-02-18T15:38:39.577Z"
   },
   {
    "duration": 3,
    "start_time": "2023-02-18T15:38:39.586Z"
   },
   {
    "duration": 7,
    "start_time": "2023-02-18T15:38:39.591Z"
   },
   {
    "duration": 7,
    "start_time": "2023-02-18T15:38:39.599Z"
   },
   {
    "duration": 31,
    "start_time": "2023-02-18T15:38:39.608Z"
   },
   {
    "duration": 9,
    "start_time": "2023-02-18T15:38:39.641Z"
   },
   {
    "duration": 9,
    "start_time": "2023-02-18T15:38:39.651Z"
   },
   {
    "duration": 7,
    "start_time": "2023-02-18T15:38:39.661Z"
   },
   {
    "duration": 9,
    "start_time": "2023-02-18T15:38:39.670Z"
   },
   {
    "duration": 271,
    "start_time": "2023-02-18T15:38:39.681Z"
   },
   {
    "duration": 21,
    "start_time": "2023-02-18T15:38:39.953Z"
   },
   {
    "duration": 40,
    "start_time": "2023-02-18T15:38:39.975Z"
   },
   {
    "duration": 290,
    "start_time": "2023-02-18T15:38:59.401Z"
   },
   {
    "duration": 246,
    "start_time": "2023-02-18T15:39:38.640Z"
   },
   {
    "duration": 267,
    "start_time": "2023-02-18T15:39:43.135Z"
   },
   {
    "duration": 246,
    "start_time": "2023-02-18T15:39:49.080Z"
   },
   {
    "duration": 26,
    "start_time": "2023-02-18T15:39:54.391Z"
   },
   {
    "duration": 42,
    "start_time": "2023-02-18T15:40:07.144Z"
   },
   {
    "duration": 249,
    "start_time": "2023-02-18T15:40:14.482Z"
   },
   {
    "duration": 39,
    "start_time": "2023-02-18T15:40:17.251Z"
   },
   {
    "duration": 20,
    "start_time": "2023-02-18T15:40:51.286Z"
   },
   {
    "duration": 39,
    "start_time": "2023-02-18T15:40:52.857Z"
   },
   {
    "duration": 42,
    "start_time": "2023-02-18T15:42:11.352Z"
   },
   {
    "duration": 6,
    "start_time": "2023-02-18T15:42:42.110Z"
   },
   {
    "duration": 107,
    "start_time": "2023-02-18T15:44:03.755Z"
   },
   {
    "duration": 9,
    "start_time": "2023-02-18T15:45:16.316Z"
   },
   {
    "duration": 11,
    "start_time": "2023-02-18T15:45:41.268Z"
   },
   {
    "duration": 56,
    "start_time": "2023-02-18T15:47:15.246Z"
   },
   {
    "duration": 11,
    "start_time": "2023-02-18T15:47:19.041Z"
   },
   {
    "duration": 3,
    "start_time": "2023-02-18T16:58:00.746Z"
   },
   {
    "duration": 20,
    "start_time": "2023-02-18T16:59:33.868Z"
   },
   {
    "duration": 31,
    "start_time": "2023-02-18T17:00:51.133Z"
   },
   {
    "duration": 299,
    "start_time": "2023-02-18T17:03:44.733Z"
   },
   {
    "duration": 256,
    "start_time": "2023-02-18T17:03:50.386Z"
   },
   {
    "duration": 262,
    "start_time": "2023-02-18T17:03:55.462Z"
   },
   {
    "duration": 1167,
    "start_time": "2023-02-18T17:09:36.798Z"
   },
   {
    "duration": 74,
    "start_time": "2023-02-18T17:09:37.968Z"
   },
   {
    "duration": 16,
    "start_time": "2023-02-18T17:09:38.044Z"
   },
   {
    "duration": 18,
    "start_time": "2023-02-18T17:09:38.062Z"
   },
   {
    "duration": 23,
    "start_time": "2023-02-18T17:09:38.083Z"
   },
   {
    "duration": 42,
    "start_time": "2023-02-18T17:09:38.109Z"
   },
   {
    "duration": 47,
    "start_time": "2023-02-18T17:09:38.153Z"
   },
   {
    "duration": 82,
    "start_time": "2023-02-18T17:09:38.202Z"
   },
   {
    "duration": 53075,
    "start_time": "2023-02-18T17:09:38.287Z"
   },
   {
    "duration": 176,
    "start_time": "2023-02-18T17:10:31.363Z"
   },
   {
    "duration": 443,
    "start_time": "2023-02-18T17:10:31.542Z"
   },
   {
    "duration": 109,
    "start_time": "2023-02-18T17:10:31.987Z"
   },
   {
    "duration": 117,
    "start_time": "2023-02-18T17:10:32.097Z"
   },
   {
    "duration": 197,
    "start_time": "2023-02-18T17:10:32.218Z"
   },
   {
    "duration": 23,
    "start_time": "2023-02-18T17:10:32.417Z"
   },
   {
    "duration": 5,
    "start_time": "2023-02-18T17:10:32.442Z"
   },
   {
    "duration": 14,
    "start_time": "2023-02-18T17:10:32.449Z"
   },
   {
    "duration": 7,
    "start_time": "2023-02-18T17:10:32.465Z"
   },
   {
    "duration": 22,
    "start_time": "2023-02-18T17:10:32.473Z"
   },
   {
    "duration": 14,
    "start_time": "2023-02-18T17:10:32.496Z"
   },
   {
    "duration": 8,
    "start_time": "2023-02-18T17:10:32.512Z"
   },
   {
    "duration": 21,
    "start_time": "2023-02-18T17:10:32.522Z"
   },
   {
    "duration": 30,
    "start_time": "2023-02-18T17:10:32.544Z"
   },
   {
    "duration": 9,
    "start_time": "2023-02-18T17:10:32.576Z"
   },
   {
    "duration": 272,
    "start_time": "2023-02-18T17:10:32.587Z"
   },
   {
    "duration": 22,
    "start_time": "2023-02-18T17:10:32.860Z"
   },
   {
    "duration": 73,
    "start_time": "2023-02-18T17:10:32.883Z"
   },
   {
    "duration": 10,
    "start_time": "2023-02-18T17:10:32.958Z"
   },
   {
    "duration": 48,
    "start_time": "2023-02-19T17:13:16.550Z"
   },
   {
    "duration": 1041,
    "start_time": "2023-02-19T17:13:26.057Z"
   },
   {
    "duration": 366,
    "start_time": "2023-02-19T17:13:27.100Z"
   },
   {
    "duration": 9,
    "start_time": "2023-02-19T17:13:27.468Z"
   },
   {
    "duration": 11,
    "start_time": "2023-02-19T17:13:27.479Z"
   },
   {
    "duration": 19,
    "start_time": "2023-02-19T17:13:27.491Z"
   },
   {
    "duration": 12,
    "start_time": "2023-02-19T17:13:27.511Z"
   },
   {
    "duration": 22,
    "start_time": "2023-02-19T17:13:27.547Z"
   },
   {
    "duration": 57,
    "start_time": "2023-02-19T17:13:27.571Z"
   },
   {
    "duration": 47759,
    "start_time": "2023-02-19T17:13:27.629Z"
   },
   {
    "duration": 157,
    "start_time": "2023-02-19T17:14:15.391Z"
   },
   {
    "duration": 671,
    "start_time": "2023-02-19T17:14:15.550Z"
   },
   {
    "duration": 113,
    "start_time": "2023-02-19T17:14:16.223Z"
   },
   {
    "duration": 159,
    "start_time": "2023-02-19T17:14:16.347Z"
   },
   {
    "duration": 100,
    "start_time": "2023-02-19T17:14:16.507Z"
   },
   {
    "duration": 6,
    "start_time": "2023-02-19T17:14:16.609Z"
   },
   {
    "duration": 28,
    "start_time": "2023-02-19T17:14:16.617Z"
   },
   {
    "duration": 25,
    "start_time": "2023-02-19T17:14:16.646Z"
   },
   {
    "duration": 24,
    "start_time": "2023-02-19T17:14:16.672Z"
   },
   {
    "duration": 40,
    "start_time": "2023-02-19T17:14:16.697Z"
   },
   {
    "duration": 14,
    "start_time": "2023-02-19T17:14:16.738Z"
   },
   {
    "duration": 11,
    "start_time": "2023-02-19T17:14:16.754Z"
   },
   {
    "duration": 13,
    "start_time": "2023-02-19T17:14:16.767Z"
   },
   {
    "duration": 28,
    "start_time": "2023-02-19T17:14:16.781Z"
   },
   {
    "duration": 11,
    "start_time": "2023-02-19T17:14:16.811Z"
   },
   {
    "duration": 241,
    "start_time": "2023-02-19T17:14:16.823Z"
   },
   {
    "duration": 18,
    "start_time": "2023-02-19T17:14:17.066Z"
   },
   {
    "duration": 63,
    "start_time": "2023-02-19T17:14:17.085Z"
   },
   {
    "duration": 7,
    "start_time": "2023-02-19T17:14:17.151Z"
   },
   {
    "duration": 18,
    "start_time": "2023-02-19T17:14:40.751Z"
   },
   {
    "duration": 19,
    "start_time": "2023-02-19T17:14:52.793Z"
   },
   {
    "duration": 1035,
    "start_time": "2023-02-19T17:15:08.458Z"
   },
   {
    "duration": 68,
    "start_time": "2023-02-19T17:15:09.495Z"
   },
   {
    "duration": 14,
    "start_time": "2023-02-19T17:15:09.564Z"
   },
   {
    "duration": 17,
    "start_time": "2023-02-19T17:15:09.580Z"
   },
   {
    "duration": 26,
    "start_time": "2023-02-19T17:15:09.599Z"
   },
   {
    "duration": 27,
    "start_time": "2023-02-19T17:15:09.627Z"
   },
   {
    "duration": 37,
    "start_time": "2023-02-19T17:15:09.656Z"
   },
   {
    "duration": 89,
    "start_time": "2023-02-19T17:15:09.695Z"
   },
   {
    "duration": 47837,
    "start_time": "2023-02-19T17:15:09.786Z"
   },
   {
    "duration": 124,
    "start_time": "2023-02-19T17:15:57.628Z"
   },
   {
    "duration": 482,
    "start_time": "2023-02-19T17:15:57.754Z"
   },
   {
    "duration": 120,
    "start_time": "2023-02-19T17:15:58.238Z"
   },
   {
    "duration": 175,
    "start_time": "2023-02-19T17:15:58.359Z"
   },
   {
    "duration": 90,
    "start_time": "2023-02-19T17:15:58.536Z"
   },
   {
    "duration": 5,
    "start_time": "2023-02-19T17:15:58.628Z"
   },
   {
    "duration": 3,
    "start_time": "2023-02-19T17:15:58.648Z"
   },
   {
    "duration": 9,
    "start_time": "2023-02-19T17:15:58.653Z"
   },
   {
    "duration": 7,
    "start_time": "2023-02-19T17:15:58.664Z"
   },
   {
    "duration": 14,
    "start_time": "2023-02-19T17:15:58.673Z"
   },
   {
    "duration": 27,
    "start_time": "2023-02-19T17:15:58.688Z"
   },
   {
    "duration": 12,
    "start_time": "2023-02-19T17:15:58.717Z"
   },
   {
    "duration": 8,
    "start_time": "2023-02-19T17:15:58.730Z"
   },
   {
    "duration": 25,
    "start_time": "2023-02-19T17:15:58.740Z"
   },
   {
    "duration": 8,
    "start_time": "2023-02-19T17:15:58.767Z"
   },
   {
    "duration": 254,
    "start_time": "2023-02-19T17:15:58.776Z"
   },
   {
    "duration": 30,
    "start_time": "2023-02-19T17:15:59.032Z"
   },
   {
    "duration": 51,
    "start_time": "2023-02-19T17:15:59.064Z"
   },
   {
    "duration": 8,
    "start_time": "2023-02-19T17:15:59.117Z"
   },
   {
    "duration": 1051,
    "start_time": "2023-02-19T17:19:40.154Z"
   },
   {
    "duration": 65,
    "start_time": "2023-02-19T17:19:41.207Z"
   },
   {
    "duration": 14,
    "start_time": "2023-02-19T17:19:41.274Z"
   },
   {
    "duration": 19,
    "start_time": "2023-02-19T17:19:41.290Z"
   },
   {
    "duration": 57,
    "start_time": "2023-02-19T17:19:41.311Z"
   },
   {
    "duration": 9,
    "start_time": "2023-02-19T17:19:41.370Z"
   },
   {
    "duration": 34,
    "start_time": "2023-02-19T17:19:41.380Z"
   },
   {
    "duration": 78,
    "start_time": "2023-02-19T17:19:41.417Z"
   },
   {
    "duration": 47657,
    "start_time": "2023-02-19T17:19:41.496Z"
   },
   {
    "duration": 290,
    "start_time": "2023-02-19T17:20:29.157Z"
   },
   {
    "duration": 364,
    "start_time": "2023-02-19T17:20:29.450Z"
   },
   {
    "duration": 101,
    "start_time": "2023-02-19T17:20:29.815Z"
   },
   {
    "duration": 169,
    "start_time": "2023-02-19T17:20:29.918Z"
   },
   {
    "duration": 94,
    "start_time": "2023-02-19T17:20:30.089Z"
   },
   {
    "duration": 6,
    "start_time": "2023-02-19T17:20:30.186Z"
   },
   {
    "duration": 9,
    "start_time": "2023-02-19T17:20:30.194Z"
   },
   {
    "duration": 10,
    "start_time": "2023-02-19T17:20:30.205Z"
   },
   {
    "duration": 19,
    "start_time": "2023-02-19T17:20:30.217Z"
   },
   {
    "duration": 24,
    "start_time": "2023-02-19T17:20:30.237Z"
   },
   {
    "duration": 17,
    "start_time": "2023-02-19T17:20:30.263Z"
   },
   {
    "duration": 13,
    "start_time": "2023-02-19T17:20:30.281Z"
   },
   {
    "duration": 34,
    "start_time": "2023-02-19T17:20:30.295Z"
   },
   {
    "duration": 48,
    "start_time": "2023-02-19T17:20:30.331Z"
   },
   {
    "duration": 28,
    "start_time": "2023-02-19T17:20:30.381Z"
   },
   {
    "duration": 236,
    "start_time": "2023-02-19T17:20:30.411Z"
   },
   {
    "duration": 19,
    "start_time": "2023-02-19T17:20:30.648Z"
   },
   {
    "duration": 74,
    "start_time": "2023-02-19T17:20:30.669Z"
   },
   {
    "duration": 9,
    "start_time": "2023-02-19T17:20:30.746Z"
   },
   {
    "duration": 59,
    "start_time": "2023-02-19T17:41:15.249Z"
   },
   {
    "duration": 1129,
    "start_time": "2023-02-19T17:41:39.916Z"
   },
   {
    "duration": 71,
    "start_time": "2023-02-19T17:41:41.047Z"
   },
   {
    "duration": 11,
    "start_time": "2023-02-19T17:41:41.119Z"
   },
   {
    "duration": 16,
    "start_time": "2023-02-19T17:41:41.132Z"
   },
   {
    "duration": 21,
    "start_time": "2023-02-19T17:41:41.150Z"
   },
   {
    "duration": 9,
    "start_time": "2023-02-19T17:41:41.173Z"
   },
   {
    "duration": 28,
    "start_time": "2023-02-19T17:41:41.183Z"
   },
   {
    "duration": 93,
    "start_time": "2023-02-19T17:41:41.212Z"
   },
   {
    "duration": 47534,
    "start_time": "2023-02-19T17:41:41.307Z"
   },
   {
    "duration": 116,
    "start_time": "2023-02-19T17:42:28.842Z"
   },
   {
    "duration": 373,
    "start_time": "2023-02-19T17:42:29.048Z"
   },
   {
    "duration": 115,
    "start_time": "2023-02-19T17:42:29.423Z"
   },
   {
    "duration": 101,
    "start_time": "2023-02-19T17:42:29.548Z"
   },
   {
    "duration": 151,
    "start_time": "2023-02-19T17:42:29.653Z"
   },
   {
    "duration": 6,
    "start_time": "2023-02-19T17:42:29.805Z"
   },
   {
    "duration": 8,
    "start_time": "2023-02-19T17:42:29.812Z"
   },
   {
    "duration": 8,
    "start_time": "2023-02-19T17:42:29.821Z"
   },
   {
    "duration": 19,
    "start_time": "2023-02-19T17:42:29.831Z"
   },
   {
    "duration": 7,
    "start_time": "2023-02-19T17:42:29.852Z"
   },
   {
    "duration": 7,
    "start_time": "2023-02-19T17:42:29.860Z"
   },
   {
    "duration": 8,
    "start_time": "2023-02-19T17:42:29.868Z"
   },
   {
    "duration": 7,
    "start_time": "2023-02-19T17:42:29.878Z"
   },
   {
    "duration": 19,
    "start_time": "2023-02-19T17:42:29.886Z"
   },
   {
    "duration": 41,
    "start_time": "2023-02-19T17:42:29.907Z"
   },
   {
    "duration": 233,
    "start_time": "2023-02-19T17:42:29.950Z"
   },
   {
    "duration": 19,
    "start_time": "2023-02-19T17:42:30.184Z"
   },
   {
    "duration": 59,
    "start_time": "2023-02-19T17:42:30.205Z"
   },
   {
    "duration": 7,
    "start_time": "2023-02-19T17:42:30.266Z"
   },
   {
    "duration": 59,
    "start_time": "2023-02-19T17:42:46.186Z"
   },
   {
    "duration": 47771,
    "start_time": "2023-02-19T17:44:35.069Z"
   },
   {
    "duration": 48486,
    "start_time": "2023-02-19T17:47:11.654Z"
   },
   {
    "duration": 48641,
    "start_time": "2023-02-19T17:49:00.672Z"
   },
   {
    "duration": 988,
    "start_time": "2023-02-19T18:13:50.215Z"
   },
   {
    "duration": 62,
    "start_time": "2023-02-19T18:13:51.204Z"
   },
   {
    "duration": 9,
    "start_time": "2023-02-19T18:13:51.267Z"
   },
   {
    "duration": 13,
    "start_time": "2023-02-19T18:13:51.278Z"
   },
   {
    "duration": 18,
    "start_time": "2023-02-19T18:13:51.294Z"
   },
   {
    "duration": 35,
    "start_time": "2023-02-19T18:13:51.314Z"
   },
   {
    "duration": 23,
    "start_time": "2023-02-19T18:13:51.351Z"
   },
   {
    "duration": 73,
    "start_time": "2023-02-19T18:13:51.376Z"
   },
   {
    "duration": 47003,
    "start_time": "2023-02-19T18:13:51.450Z"
   },
   {
    "duration": 52,
    "start_time": "2023-02-19T18:14:38.455Z"
   },
   {
    "duration": 0,
    "start_time": "2023-02-19T18:14:38.509Z"
   },
   {
    "duration": 0,
    "start_time": "2023-02-19T18:14:38.511Z"
   },
   {
    "duration": 0,
    "start_time": "2023-02-19T18:14:38.512Z"
   },
   {
    "duration": 0,
    "start_time": "2023-02-19T18:14:38.514Z"
   },
   {
    "duration": 0,
    "start_time": "2023-02-19T18:14:38.515Z"
   },
   {
    "duration": 0,
    "start_time": "2023-02-19T18:14:38.516Z"
   },
   {
    "duration": 0,
    "start_time": "2023-02-19T18:14:38.518Z"
   },
   {
    "duration": 0,
    "start_time": "2023-02-19T18:14:38.519Z"
   },
   {
    "duration": 0,
    "start_time": "2023-02-19T18:14:38.520Z"
   },
   {
    "duration": 0,
    "start_time": "2023-02-19T18:14:38.522Z"
   },
   {
    "duration": 0,
    "start_time": "2023-02-19T18:14:38.523Z"
   },
   {
    "duration": 0,
    "start_time": "2023-02-19T18:14:38.524Z"
   },
   {
    "duration": 0,
    "start_time": "2023-02-19T18:14:38.525Z"
   },
   {
    "duration": 0,
    "start_time": "2023-02-19T18:14:38.526Z"
   },
   {
    "duration": 0,
    "start_time": "2023-02-19T18:14:38.527Z"
   },
   {
    "duration": 0,
    "start_time": "2023-02-19T18:14:38.528Z"
   },
   {
    "duration": 0,
    "start_time": "2023-02-19T18:14:38.530Z"
   },
   {
    "duration": 0,
    "start_time": "2023-02-19T18:14:38.531Z"
   },
   {
    "duration": 1163,
    "start_time": "2023-02-19T18:16:24.315Z"
   },
   {
    "duration": 98,
    "start_time": "2023-02-19T18:16:25.480Z"
   },
   {
    "duration": 13,
    "start_time": "2023-02-19T18:16:25.580Z"
   },
   {
    "duration": 21,
    "start_time": "2023-02-19T18:16:25.596Z"
   },
   {
    "duration": 39,
    "start_time": "2023-02-19T18:16:25.619Z"
   },
   {
    "duration": 13,
    "start_time": "2023-02-19T18:16:25.659Z"
   },
   {
    "duration": 26,
    "start_time": "2023-02-19T18:16:25.674Z"
   },
   {
    "duration": 78,
    "start_time": "2023-02-19T18:16:25.701Z"
   },
   {
    "duration": 48546,
    "start_time": "2023-02-19T18:16:25.780Z"
   },
   {
    "duration": 129,
    "start_time": "2023-02-19T18:17:14.329Z"
   },
   {
    "duration": 472,
    "start_time": "2023-02-19T18:17:14.461Z"
   },
   {
    "duration": 123,
    "start_time": "2023-02-19T18:17:14.935Z"
   },
   {
    "duration": 159,
    "start_time": "2023-02-19T18:17:15.060Z"
   },
   {
    "duration": 116,
    "start_time": "2023-02-19T18:17:15.220Z"
   },
   {
    "duration": 19,
    "start_time": "2023-02-19T18:17:15.338Z"
   },
   {
    "duration": 61,
    "start_time": "2023-02-19T18:17:15.359Z"
   },
   {
    "duration": 39,
    "start_time": "2023-02-19T18:17:15.421Z"
   },
   {
    "duration": 19,
    "start_time": "2023-02-19T18:17:15.462Z"
   },
   {
    "duration": 15,
    "start_time": "2023-02-19T18:17:15.484Z"
   },
   {
    "duration": 15,
    "start_time": "2023-02-19T18:17:15.501Z"
   },
   {
    "duration": 10,
    "start_time": "2023-02-19T18:17:15.518Z"
   },
   {
    "duration": 19,
    "start_time": "2023-02-19T18:17:15.530Z"
   },
   {
    "duration": 25,
    "start_time": "2023-02-19T18:17:15.551Z"
   },
   {
    "duration": 11,
    "start_time": "2023-02-19T18:17:15.577Z"
   },
   {
    "duration": 311,
    "start_time": "2023-02-19T18:17:15.592Z"
   },
   {
    "duration": 28,
    "start_time": "2023-02-19T18:17:15.906Z"
   },
   {
    "duration": 82,
    "start_time": "2023-02-19T18:17:15.936Z"
   },
   {
    "duration": 10,
    "start_time": "2023-02-19T18:17:16.021Z"
   },
   {
    "duration": 109,
    "start_time": "2023-02-19T18:35:35.757Z"
   },
   {
    "duration": 110,
    "start_time": "2023-02-19T18:41:18.395Z"
   },
   {
    "duration": 99,
    "start_time": "2023-02-19T18:41:20.915Z"
   },
   {
    "duration": 12,
    "start_time": "2023-02-19T19:10:54.504Z"
   },
   {
    "duration": 3,
    "start_time": "2023-02-19T19:25:31.621Z"
   },
   {
    "duration": 4,
    "start_time": "2023-02-19T19:25:42.574Z"
   },
   {
    "duration": 26,
    "start_time": "2023-02-19T19:25:44.915Z"
   },
   {
    "duration": 92,
    "start_time": "2023-02-19T19:39:51.592Z"
   },
   {
    "duration": 96,
    "start_time": "2023-02-19T19:39:55.657Z"
   },
   {
    "duration": 96,
    "start_time": "2023-02-19T19:40:00.124Z"
   },
   {
    "duration": 109,
    "start_time": "2023-02-19T19:40:03.353Z"
   },
   {
    "duration": 101,
    "start_time": "2023-02-19T19:40:06.587Z"
   },
   {
    "duration": 86,
    "start_time": "2023-02-19T19:40:07.822Z"
   },
   {
    "duration": 108,
    "start_time": "2023-02-19T19:40:17.719Z"
   },
   {
    "duration": 53,
    "start_time": "2023-02-19T20:14:59.488Z"
   },
   {
    "duration": 63,
    "start_time": "2023-02-19T20:15:06.841Z"
   },
   {
    "duration": 80,
    "start_time": "2023-02-19T20:17:28.488Z"
   },
   {
    "duration": 80,
    "start_time": "2023-02-19T20:18:26.121Z"
   },
   {
    "duration": 90,
    "start_time": "2023-02-19T20:19:13.086Z"
   },
   {
    "duration": 84,
    "start_time": "2023-02-19T20:20:28.827Z"
   },
   {
    "duration": 73,
    "start_time": "2023-02-19T20:20:41.292Z"
   },
   {
    "duration": 1087,
    "start_time": "2023-02-19T20:27:32.866Z"
   },
   {
    "duration": 65,
    "start_time": "2023-02-19T20:27:33.955Z"
   },
   {
    "duration": 10,
    "start_time": "2023-02-19T20:27:34.021Z"
   },
   {
    "duration": 23,
    "start_time": "2023-02-19T20:27:34.033Z"
   },
   {
    "duration": 28,
    "start_time": "2023-02-19T20:27:34.058Z"
   },
   {
    "duration": 10,
    "start_time": "2023-02-19T20:27:34.087Z"
   },
   {
    "duration": 39,
    "start_time": "2023-02-19T20:27:34.100Z"
   },
   {
    "duration": 81,
    "start_time": "2023-02-19T20:27:34.141Z"
   },
   {
    "duration": 51709,
    "start_time": "2023-02-19T20:27:34.224Z"
   },
   {
    "duration": 1523,
    "start_time": "2023-02-19T20:28:25.935Z"
   },
   {
    "duration": 400,
    "start_time": "2023-02-19T20:28:27.460Z"
   },
   {
    "duration": 130,
    "start_time": "2023-02-19T20:28:27.862Z"
   },
   {
    "duration": 191,
    "start_time": "2023-02-19T20:28:27.994Z"
   },
   {
    "duration": 117,
    "start_time": "2023-02-19T20:28:28.187Z"
   },
   {
    "duration": 102,
    "start_time": "2023-02-19T20:28:28.305Z"
   },
   {
    "duration": 116,
    "start_time": "2023-02-19T20:28:28.409Z"
   },
   {
    "duration": 148,
    "start_time": "2023-02-19T20:28:28.527Z"
   },
   {
    "duration": 8,
    "start_time": "2023-02-19T20:28:28.677Z"
   },
   {
    "duration": 16,
    "start_time": "2023-02-19T20:28:28.687Z"
   },
   {
    "duration": 17,
    "start_time": "2023-02-19T20:28:28.704Z"
   },
   {
    "duration": 8,
    "start_time": "2023-02-19T20:28:28.722Z"
   },
   {
    "duration": 6,
    "start_time": "2023-02-19T20:28:28.731Z"
   },
   {
    "duration": 19,
    "start_time": "2023-02-19T20:28:28.738Z"
   },
   {
    "duration": 10,
    "start_time": "2023-02-19T20:28:28.759Z"
   },
   {
    "duration": 9,
    "start_time": "2023-02-19T20:28:28.771Z"
   },
   {
    "duration": 4,
    "start_time": "2023-02-19T20:28:28.782Z"
   },
   {
    "duration": 74,
    "start_time": "2023-02-19T20:28:28.788Z"
   },
   {
    "duration": 87,
    "start_time": "2023-02-19T20:28:28.868Z"
   },
   {
    "duration": 138,
    "start_time": "2023-02-19T20:28:28.957Z"
   },
   {
    "duration": 53202,
    "start_time": "2023-02-19T20:28:29.097Z"
   },
   {
    "duration": 110,
    "start_time": "2023-02-19T20:29:22.300Z"
   },
   {
    "duration": 14,
    "start_time": "2023-02-19T20:29:22.412Z"
   },
   {
    "duration": 40,
    "start_time": "2023-02-19T20:29:22.427Z"
   },
   {
    "duration": 10,
    "start_time": "2023-02-19T20:29:22.469Z"
   },
   {
    "duration": 326,
    "start_time": "2023-02-19T20:39:18.627Z"
   },
   {
    "duration": 36,
    "start_time": "2023-02-19T20:42:27.528Z"
   },
   {
    "duration": 35,
    "start_time": "2023-02-19T20:43:15.925Z"
   },
   {
    "duration": 80,
    "start_time": "2023-02-19T20:53:10.564Z"
   },
   {
    "duration": 12,
    "start_time": "2023-02-19T20:53:33.678Z"
   },
   {
    "duration": 77,
    "start_time": "2023-02-19T20:53:35.494Z"
   },
   {
    "duration": 11,
    "start_time": "2023-02-19T20:54:41.850Z"
   },
   {
    "duration": 71,
    "start_time": "2023-02-19T20:54:43.248Z"
   },
   {
    "duration": 48527,
    "start_time": "2023-02-19T20:54:52.127Z"
   },
   {
    "duration": 69,
    "start_time": "2023-02-19T20:55:55.957Z"
   },
   {
    "duration": 10,
    "start_time": "2023-02-19T20:56:40.627Z"
   },
   {
    "duration": 74,
    "start_time": "2023-02-19T20:56:42.347Z"
   },
   {
    "duration": 78,
    "start_time": "2023-02-19T20:57:26.472Z"
   },
   {
    "duration": 10,
    "start_time": "2023-02-19T20:57:28.276Z"
   },
   {
    "duration": 80,
    "start_time": "2023-02-19T20:57:29.392Z"
   },
   {
    "duration": 64283,
    "start_time": "2023-02-19T20:58:35.961Z"
   },
   {
    "duration": 219,
    "start_time": "2023-02-19T21:04:44.229Z"
   },
   {
    "duration": 10,
    "start_time": "2023-02-19T21:05:07.928Z"
   },
   {
    "duration": 71,
    "start_time": "2023-02-19T21:05:10.680Z"
   },
   {
    "duration": 184,
    "start_time": "2023-02-19T21:05:12.971Z"
   },
   {
    "duration": 292,
    "start_time": "2023-02-19T21:05:21.357Z"
   },
   {
    "duration": 58078,
    "start_time": "2023-02-19T21:05:39.029Z"
   },
   {
    "duration": 82,
    "start_time": "2023-02-19T21:06:37.109Z"
   },
   {
    "duration": 26,
    "start_time": "2023-02-19T21:11:07.126Z"
   },
   {
    "duration": 31,
    "start_time": "2023-02-19T21:24:25.437Z"
   },
   {
    "duration": 29,
    "start_time": "2023-02-19T21:24:35.144Z"
   },
   {
    "duration": 27,
    "start_time": "2023-02-19T21:24:40.683Z"
   },
   {
    "duration": 25,
    "start_time": "2023-02-19T21:24:44.658Z"
   },
   {
    "duration": 25,
    "start_time": "2023-02-19T21:24:58.525Z"
   },
   {
    "duration": 27,
    "start_time": "2023-02-19T21:25:02.129Z"
   },
   {
    "duration": 34,
    "start_time": "2023-02-19T21:25:08.232Z"
   },
   {
    "duration": 3,
    "start_time": "2023-02-19T21:25:43.765Z"
   },
   {
    "duration": 39,
    "start_time": "2023-02-19T21:25:46.533Z"
   },
   {
    "duration": 42,
    "start_time": "2023-02-19T21:26:21.269Z"
   },
   {
    "duration": 42,
    "start_time": "2023-02-19T21:26:29.774Z"
   },
   {
    "duration": 47,
    "start_time": "2023-02-19T21:27:11.367Z"
   },
   {
    "duration": 10,
    "start_time": "2023-02-19T21:27:14.477Z"
   },
   {
    "duration": 8,
    "start_time": "2023-02-19T21:27:43.654Z"
   },
   {
    "duration": 43,
    "start_time": "2023-02-19T21:27:50.426Z"
   },
   {
    "duration": 1070,
    "start_time": "2023-02-19T21:28:40.327Z"
   },
   {
    "duration": 61,
    "start_time": "2023-02-19T21:28:41.399Z"
   },
   {
    "duration": 8,
    "start_time": "2023-02-19T21:28:41.462Z"
   },
   {
    "duration": 33,
    "start_time": "2023-02-19T21:28:41.472Z"
   },
   {
    "duration": 21,
    "start_time": "2023-02-19T21:28:41.507Z"
   },
   {
    "duration": 7,
    "start_time": "2023-02-19T21:28:41.530Z"
   },
   {
    "duration": 92,
    "start_time": "2023-02-19T21:28:41.539Z"
   },
   {
    "duration": 57,
    "start_time": "2023-02-19T21:28:41.632Z"
   },
   {
    "duration": 48720,
    "start_time": "2023-02-19T21:28:41.691Z"
   },
   {
    "duration": 145,
    "start_time": "2023-02-19T21:29:30.413Z"
   },
   {
    "duration": 464,
    "start_time": "2023-02-19T21:29:30.560Z"
   },
   {
    "duration": 112,
    "start_time": "2023-02-19T21:29:31.025Z"
   },
   {
    "duration": 170,
    "start_time": "2023-02-19T21:29:31.147Z"
   },
   {
    "duration": 132,
    "start_time": "2023-02-19T21:29:31.320Z"
   },
   {
    "duration": 108,
    "start_time": "2023-02-19T21:29:31.455Z"
   },
   {
    "duration": 99,
    "start_time": "2023-02-19T21:29:31.565Z"
   },
   {
    "duration": 99,
    "start_time": "2023-02-19T21:29:31.666Z"
   },
   {
    "duration": 5,
    "start_time": "2023-02-19T21:29:31.767Z"
   },
   {
    "duration": 6,
    "start_time": "2023-02-19T21:29:31.774Z"
   },
   {
    "duration": 8,
    "start_time": "2023-02-19T21:29:31.782Z"
   },
   {
    "duration": 9,
    "start_time": "2023-02-19T21:29:31.791Z"
   },
   {
    "duration": 5,
    "start_time": "2023-02-19T21:29:31.801Z"
   },
   {
    "duration": 11,
    "start_time": "2023-02-19T21:29:31.808Z"
   },
   {
    "duration": 30,
    "start_time": "2023-02-19T21:29:31.820Z"
   },
   {
    "duration": 8,
    "start_time": "2023-02-19T21:29:31.851Z"
   },
   {
    "duration": 3,
    "start_time": "2023-02-19T21:29:31.860Z"
   },
   {
    "duration": 84,
    "start_time": "2023-02-19T21:29:31.864Z"
   },
   {
    "duration": 98,
    "start_time": "2023-02-19T21:29:31.950Z"
   },
   {
    "duration": 70,
    "start_time": "2023-02-19T21:29:32.050Z"
   },
   {
    "duration": 48583,
    "start_time": "2023-02-19T21:29:32.121Z"
   },
   {
    "duration": 250,
    "start_time": "2023-02-19T21:30:20.705Z"
   },
   {
    "duration": 120,
    "start_time": "2023-02-19T21:30:20.957Z"
   },
   {
    "duration": 102,
    "start_time": "2023-02-19T21:30:21.147Z"
   },
   {
    "duration": 93,
    "start_time": "2023-02-19T21:30:21.251Z"
   },
   {
    "duration": 60225,
    "start_time": "2023-02-19T21:30:21.348Z"
   },
   {
    "duration": 277,
    "start_time": "2023-02-19T21:31:21.574Z"
   },
   {
    "duration": 118,
    "start_time": "2023-02-19T21:31:21.853Z"
   },
   {
    "duration": 77,
    "start_time": "2023-02-19T21:31:21.975Z"
   },
   {
    "duration": 190,
    "start_time": "2023-02-19T21:31:22.058Z"
   },
   {
    "duration": 8,
    "start_time": "2023-02-19T21:31:22.249Z"
   },
   {
    "duration": 124,
    "start_time": "2023-02-19T21:32:05.979Z"
   },
   {
    "duration": 87,
    "start_time": "2023-02-19T21:32:31.876Z"
   },
   {
    "duration": 62,
    "start_time": "2023-02-19T21:32:36.397Z"
   },
   {
    "duration": 995,
    "start_time": "2023-02-19T21:37:50.903Z"
   },
   {
    "duration": 64,
    "start_time": "2023-02-19T21:37:51.900Z"
   },
   {
    "duration": 9,
    "start_time": "2023-02-19T21:37:51.966Z"
   },
   {
    "duration": 16,
    "start_time": "2023-02-19T21:37:51.977Z"
   },
   {
    "duration": 31,
    "start_time": "2023-02-19T21:37:51.995Z"
   },
   {
    "duration": 21,
    "start_time": "2023-02-19T21:37:52.027Z"
   },
   {
    "duration": 24,
    "start_time": "2023-02-19T21:37:52.049Z"
   },
   {
    "duration": 58,
    "start_time": "2023-02-19T21:37:52.075Z"
   },
   {
    "duration": 47399,
    "start_time": "2023-02-19T21:37:52.148Z"
   },
   {
    "duration": 203,
    "start_time": "2023-02-19T21:38:39.550Z"
   },
   {
    "duration": 398,
    "start_time": "2023-02-19T21:38:39.755Z"
   },
   {
    "duration": 119,
    "start_time": "2023-02-19T21:38:40.155Z"
   },
   {
    "duration": 183,
    "start_time": "2023-02-19T21:38:40.275Z"
   },
   {
    "duration": 121,
    "start_time": "2023-02-19T21:38:40.460Z"
   },
   {
    "duration": 108,
    "start_time": "2023-02-19T21:38:40.583Z"
   },
   {
    "duration": 112,
    "start_time": "2023-02-19T21:38:40.693Z"
   },
   {
    "duration": 104,
    "start_time": "2023-02-19T21:38:40.806Z"
   },
   {
    "duration": 7,
    "start_time": "2023-02-19T21:38:40.912Z"
   },
   {
    "duration": 3,
    "start_time": "2023-02-19T21:38:40.922Z"
   },
   {
    "duration": 24,
    "start_time": "2023-02-19T21:38:40.927Z"
   },
   {
    "duration": 9,
    "start_time": "2023-02-19T21:38:40.952Z"
   },
   {
    "duration": 8,
    "start_time": "2023-02-19T21:38:40.963Z"
   },
   {
    "duration": 11,
    "start_time": "2023-02-19T21:38:40.972Z"
   },
   {
    "duration": 10,
    "start_time": "2023-02-19T21:38:40.985Z"
   },
   {
    "duration": 11,
    "start_time": "2023-02-19T21:38:40.997Z"
   },
   {
    "duration": 39,
    "start_time": "2023-02-19T21:38:41.010Z"
   },
   {
    "duration": 24,
    "start_time": "2023-02-19T21:38:41.051Z"
   },
   {
    "duration": 77,
    "start_time": "2023-02-19T21:38:41.080Z"
   },
   {
    "duration": 159,
    "start_time": "2023-02-19T21:38:41.160Z"
   },
   {
    "duration": 47587,
    "start_time": "2023-02-19T21:38:41.321Z"
   },
   {
    "duration": 245,
    "start_time": "2023-02-19T21:39:28.910Z"
   },
   {
    "duration": 121,
    "start_time": "2023-02-19T21:39:29.157Z"
   },
   {
    "duration": 168,
    "start_time": "2023-02-19T21:39:29.280Z"
   },
   {
    "duration": 73,
    "start_time": "2023-02-19T21:39:29.450Z"
   },
   {
    "duration": 59933,
    "start_time": "2023-02-19T21:39:29.524Z"
   },
   {
    "duration": 298,
    "start_time": "2023-02-19T21:40:29.459Z"
   },
   {
    "duration": 118,
    "start_time": "2023-02-19T21:40:29.759Z"
   },
   {
    "duration": 70,
    "start_time": "2023-02-19T21:40:29.879Z"
   },
   {
    "duration": 158,
    "start_time": "2023-02-19T21:40:29.951Z"
   },
   {
    "duration": 9,
    "start_time": "2023-02-19T21:40:30.112Z"
   },
   {
    "duration": 1535,
    "start_time": "2023-02-20T21:43:33.162Z"
   },
   {
    "duration": 74,
    "start_time": "2023-02-20T21:43:34.702Z"
   },
   {
    "duration": 14,
    "start_time": "2023-02-20T21:43:34.778Z"
   },
   {
    "duration": 33,
    "start_time": "2023-02-20T21:43:34.795Z"
   },
   {
    "duration": 20,
    "start_time": "2023-02-20T21:43:34.830Z"
   },
   {
    "duration": 8,
    "start_time": "2023-02-20T21:43:34.852Z"
   },
   {
    "duration": 35,
    "start_time": "2023-02-20T21:43:34.862Z"
   },
   {
    "duration": 64,
    "start_time": "2023-02-20T21:43:34.901Z"
   },
   {
    "duration": 57238,
    "start_time": "2023-02-20T21:43:34.967Z"
   },
   {
    "duration": 372,
    "start_time": "2023-02-20T21:44:32.214Z"
   },
   {
    "duration": 608,
    "start_time": "2023-02-20T21:44:32.596Z"
   },
   {
    "duration": 148,
    "start_time": "2023-02-20T21:44:33.213Z"
   },
   {
    "duration": 225,
    "start_time": "2023-02-20T21:44:33.363Z"
   },
   {
    "duration": 142,
    "start_time": "2023-02-20T21:44:33.594Z"
   },
   {
    "duration": 116,
    "start_time": "2023-02-20T21:44:33.738Z"
   },
   {
    "duration": 114,
    "start_time": "2023-02-20T21:44:33.857Z"
   },
   {
    "duration": 136,
    "start_time": "2023-02-20T21:44:33.973Z"
   },
   {
    "duration": 7,
    "start_time": "2023-02-20T21:44:34.111Z"
   },
   {
    "duration": 8,
    "start_time": "2023-02-20T21:44:34.119Z"
   },
   {
    "duration": 25,
    "start_time": "2023-02-20T21:44:34.129Z"
   },
   {
    "duration": 9,
    "start_time": "2023-02-20T21:44:34.156Z"
   },
   {
    "duration": 10,
    "start_time": "2023-02-20T21:44:34.167Z"
   },
   {
    "duration": 40,
    "start_time": "2023-02-20T21:44:34.179Z"
   },
   {
    "duration": 9,
    "start_time": "2023-02-20T21:44:34.221Z"
   },
   {
    "duration": 9,
    "start_time": "2023-02-20T21:44:34.232Z"
   },
   {
    "duration": 14,
    "start_time": "2023-02-20T21:44:34.243Z"
   },
   {
    "duration": 77,
    "start_time": "2023-02-20T21:44:34.258Z"
   },
   {
    "duration": 160,
    "start_time": "2023-02-20T21:44:34.339Z"
   },
   {
    "duration": 186,
    "start_time": "2023-02-20T21:44:34.501Z"
   },
   {
    "duration": 59537,
    "start_time": "2023-02-20T21:44:34.691Z"
   },
   {
    "duration": 483,
    "start_time": "2023-02-20T21:45:34.230Z"
   },
   {
    "duration": 178,
    "start_time": "2023-02-20T21:45:34.720Z"
   },
   {
    "duration": 92,
    "start_time": "2023-02-20T21:45:34.901Z"
   },
   {
    "duration": 110,
    "start_time": "2023-02-20T21:45:34.999Z"
   },
   {
    "duration": 75701,
    "start_time": "2023-02-20T21:45:35.116Z"
   },
   {
    "duration": 500,
    "start_time": "2023-02-20T21:46:50.822Z"
   },
   {
    "duration": 173,
    "start_time": "2023-02-20T21:46:51.324Z"
   },
   {
    "duration": 113,
    "start_time": "2023-02-20T21:46:51.506Z"
   },
   {
    "duration": 54,
    "start_time": "2023-02-20T21:46:51.620Z"
   },
   {
    "duration": 9,
    "start_time": "2023-02-20T21:46:51.676Z"
   },
   {
    "duration": 1424,
    "start_time": "2023-02-20T21:48:15.084Z"
   },
   {
    "duration": 68,
    "start_time": "2023-02-20T21:48:16.509Z"
   },
   {
    "duration": 11,
    "start_time": "2023-02-20T21:48:16.578Z"
   },
   {
    "duration": 43,
    "start_time": "2023-02-20T21:48:16.593Z"
   },
   {
    "duration": 25,
    "start_time": "2023-02-20T21:48:16.637Z"
   },
   {
    "duration": 12,
    "start_time": "2023-02-20T21:48:16.664Z"
   },
   {
    "duration": 59,
    "start_time": "2023-02-20T21:48:16.678Z"
   },
   {
    "duration": 76,
    "start_time": "2023-02-20T21:48:16.739Z"
   },
   {
    "duration": 58400,
    "start_time": "2023-02-20T21:48:16.817Z"
   },
   {
    "duration": 598,
    "start_time": "2023-02-20T21:49:15.220Z"
   },
   {
    "duration": 500,
    "start_time": "2023-02-20T21:49:15.823Z"
   },
   {
    "duration": 136,
    "start_time": "2023-02-20T21:49:16.325Z"
   },
   {
    "duration": 232,
    "start_time": "2023-02-20T21:49:16.463Z"
   },
   {
    "duration": 142,
    "start_time": "2023-02-20T21:49:16.696Z"
   },
   {
    "duration": 117,
    "start_time": "2023-02-20T21:49:16.841Z"
   },
   {
    "duration": 128,
    "start_time": "2023-02-20T21:49:16.960Z"
   },
   {
    "duration": 119,
    "start_time": "2023-02-20T21:49:17.094Z"
   },
   {
    "duration": 12,
    "start_time": "2023-02-20T21:49:17.215Z"
   },
   {
    "duration": 39,
    "start_time": "2023-02-20T21:49:17.228Z"
   },
   {
    "duration": 49,
    "start_time": "2023-02-20T21:49:17.269Z"
   },
   {
    "duration": 11,
    "start_time": "2023-02-20T21:49:17.319Z"
   },
   {
    "duration": 7,
    "start_time": "2023-02-20T21:49:17.331Z"
   },
   {
    "duration": 23,
    "start_time": "2023-02-20T21:49:17.339Z"
   },
   {
    "duration": 9,
    "start_time": "2023-02-20T21:49:17.364Z"
   },
   {
    "duration": 8,
    "start_time": "2023-02-20T21:49:17.375Z"
   },
   {
    "duration": 33,
    "start_time": "2023-02-20T21:49:17.384Z"
   },
   {
    "duration": 74,
    "start_time": "2023-02-20T21:49:17.419Z"
   },
   {
    "duration": 17,
    "start_time": "2023-02-20T21:49:17.499Z"
   },
   {
    "duration": 108,
    "start_time": "2023-02-20T21:49:17.586Z"
   },
   {
    "duration": 58964,
    "start_time": "2023-02-20T21:49:17.696Z"
   },
   {
    "duration": 1129,
    "start_time": "2023-02-20T21:50:16.661Z"
   },
   {
    "duration": 43,
    "start_time": "2023-02-20T21:50:17.794Z"
   },
   {
    "duration": 101,
    "start_time": "2023-02-20T21:50:17.889Z"
   },
   {
    "duration": 132,
    "start_time": "2023-02-20T21:50:17.993Z"
   },
   {
    "duration": 76909,
    "start_time": "2023-02-20T21:50:18.126Z"
   },
   {
    "duration": 761,
    "start_time": "2023-02-20T21:51:35.037Z"
   },
   {
    "duration": 109,
    "start_time": "2023-02-20T21:51:35.800Z"
   },
   {
    "duration": 197,
    "start_time": "2023-02-20T21:51:35.912Z"
   },
   {
    "duration": 55,
    "start_time": "2023-02-20T21:51:36.111Z"
   },
   {
    "duration": 9,
    "start_time": "2023-02-20T21:51:36.168Z"
   },
   {
    "duration": 1305,
    "start_time": "2023-02-20T21:52:55.412Z"
   },
   {
    "duration": 67,
    "start_time": "2023-02-20T21:52:56.720Z"
   },
   {
    "duration": 22,
    "start_time": "2023-02-20T21:52:56.788Z"
   },
   {
    "duration": 25,
    "start_time": "2023-02-20T21:52:56.813Z"
   },
   {
    "duration": 22,
    "start_time": "2023-02-20T21:52:56.839Z"
   },
   {
    "duration": 9,
    "start_time": "2023-02-20T21:52:56.862Z"
   },
   {
    "duration": 46,
    "start_time": "2023-02-20T21:52:56.873Z"
   },
   {
    "duration": 86,
    "start_time": "2023-02-20T21:52:56.921Z"
   },
   {
    "duration": 57601,
    "start_time": "2023-02-20T21:52:57.012Z"
   },
   {
    "duration": 387,
    "start_time": "2023-02-20T21:53:54.616Z"
   },
   {
    "duration": 564,
    "start_time": "2023-02-20T21:53:55.005Z"
   },
   {
    "duration": 166,
    "start_time": "2023-02-20T21:53:55.571Z"
   },
   {
    "duration": 268,
    "start_time": "2023-02-20T21:53:55.740Z"
   },
   {
    "duration": 136,
    "start_time": "2023-02-20T21:53:56.012Z"
   },
   {
    "duration": 149,
    "start_time": "2023-02-20T21:53:56.151Z"
   },
   {
    "duration": 129,
    "start_time": "2023-02-20T21:53:56.301Z"
   },
   {
    "duration": 122,
    "start_time": "2023-02-20T21:53:56.432Z"
   },
   {
    "duration": 6,
    "start_time": "2023-02-20T21:53:56.555Z"
   },
   {
    "duration": 15,
    "start_time": "2023-02-20T21:53:56.563Z"
   },
   {
    "duration": 44,
    "start_time": "2023-02-20T21:53:56.579Z"
   },
   {
    "duration": 7,
    "start_time": "2023-02-20T21:53:56.625Z"
   },
   {
    "duration": 7,
    "start_time": "2023-02-20T21:53:56.633Z"
   },
   {
    "duration": 9,
    "start_time": "2023-02-20T21:53:56.642Z"
   },
   {
    "duration": 9,
    "start_time": "2023-02-20T21:53:56.652Z"
   },
   {
    "duration": 25,
    "start_time": "2023-02-20T21:53:56.662Z"
   },
   {
    "duration": 17,
    "start_time": "2023-02-20T21:53:56.693Z"
   },
   {
    "duration": 27,
    "start_time": "2023-02-20T21:53:56.712Z"
   },
   {
    "duration": 102,
    "start_time": "2023-02-20T21:53:56.802Z"
   },
   {
    "duration": 90,
    "start_time": "2023-02-20T21:53:56.906Z"
   },
   {
    "duration": 57907,
    "start_time": "2023-02-20T21:53:57.009Z"
   },
   {
    "duration": 770,
    "start_time": "2023-02-20T21:54:54.917Z"
   },
   {
    "duration": 129,
    "start_time": "2023-02-20T21:54:55.689Z"
   },
   {
    "duration": 209,
    "start_time": "2023-02-20T21:54:55.820Z"
   },
   {
    "duration": 91,
    "start_time": "2023-02-20T21:54:56.030Z"
   },
   {
    "duration": 70779,
    "start_time": "2023-02-20T21:54:56.123Z"
   },
   {
    "duration": 599,
    "start_time": "2023-02-20T21:56:06.904Z"
   },
   {
    "duration": 30,
    "start_time": "2023-02-20T21:56:07.505Z"
   },
   {
    "duration": 63,
    "start_time": "2023-02-20T21:56:07.537Z"
   },
   {
    "duration": 149,
    "start_time": "2023-02-20T21:56:07.616Z"
   },
   {
    "duration": 8,
    "start_time": "2023-02-20T21:56:07.767Z"
   },
   {
    "duration": 49,
    "start_time": "2023-02-20T22:31:14.532Z"
   },
   {
    "duration": 1124,
    "start_time": "2023-02-20T22:31:28.559Z"
   },
   {
    "duration": 213,
    "start_time": "2023-02-20T22:31:29.685Z"
   },
   {
    "duration": 10,
    "start_time": "2023-02-20T22:31:29.900Z"
   },
   {
    "duration": 13,
    "start_time": "2023-02-20T22:31:29.912Z"
   },
   {
    "duration": 20,
    "start_time": "2023-02-20T22:31:29.928Z"
   },
   {
    "duration": 8,
    "start_time": "2023-02-20T22:31:29.950Z"
   },
   {
    "duration": 57,
    "start_time": "2023-02-20T22:31:29.960Z"
   },
   {
    "duration": 75,
    "start_time": "2023-02-20T22:31:30.019Z"
   },
   {
    "duration": 49821,
    "start_time": "2023-02-20T22:31:30.096Z"
   },
   {
    "duration": 373,
    "start_time": "2023-02-20T22:32:19.919Z"
   },
   {
    "duration": 603,
    "start_time": "2023-02-20T22:32:20.294Z"
   },
   {
    "duration": 126,
    "start_time": "2023-02-20T22:32:20.899Z"
   },
   {
    "duration": 209,
    "start_time": "2023-02-20T22:32:21.027Z"
   },
   {
    "duration": 126,
    "start_time": "2023-02-20T22:32:21.240Z"
   },
   {
    "duration": 131,
    "start_time": "2023-02-20T22:32:21.368Z"
   },
   {
    "duration": 110,
    "start_time": "2023-02-20T22:32:21.501Z"
   },
   {
    "duration": 107,
    "start_time": "2023-02-20T22:32:21.613Z"
   },
   {
    "duration": 6,
    "start_time": "2023-02-20T22:32:21.721Z"
   },
   {
    "duration": 6,
    "start_time": "2023-02-20T22:32:21.729Z"
   },
   {
    "duration": 10,
    "start_time": "2023-02-20T22:32:21.737Z"
   },
   {
    "duration": 21,
    "start_time": "2023-02-20T22:32:21.749Z"
   },
   {
    "duration": 10,
    "start_time": "2023-02-20T22:32:21.772Z"
   },
   {
    "duration": 12,
    "start_time": "2023-02-20T22:32:21.792Z"
   },
   {
    "duration": 15,
    "start_time": "2023-02-20T22:32:21.806Z"
   },
   {
    "duration": 27,
    "start_time": "2023-02-20T22:32:21.823Z"
   },
   {
    "duration": 6,
    "start_time": "2023-02-20T22:32:21.852Z"
   },
   {
    "duration": 42,
    "start_time": "2023-02-20T22:32:21.860Z"
   },
   {
    "duration": 98,
    "start_time": "2023-02-20T22:32:21.904Z"
   },
   {
    "duration": 183,
    "start_time": "2023-02-20T22:32:22.004Z"
   },
   {
    "duration": 50638,
    "start_time": "2023-02-20T22:32:22.189Z"
   },
   {
    "duration": 167,
    "start_time": "2023-02-20T22:33:12.829Z"
   },
   {
    "duration": 295,
    "start_time": "2023-02-20T22:33:12.998Z"
   },
   {
    "duration": 135,
    "start_time": "2023-02-20T22:33:13.294Z"
   },
   {
    "duration": 0,
    "start_time": "2023-02-20T22:33:13.431Z"
   },
   {
    "duration": 0,
    "start_time": "2023-02-20T22:33:13.432Z"
   },
   {
    "duration": 0,
    "start_time": "2023-02-20T22:33:13.434Z"
   },
   {
    "duration": 0,
    "start_time": "2023-02-20T22:33:13.435Z"
   },
   {
    "duration": 0,
    "start_time": "2023-02-20T22:33:13.437Z"
   },
   {
    "duration": 0,
    "start_time": "2023-02-20T22:33:13.438Z"
   },
   {
    "duration": 0,
    "start_time": "2023-02-20T22:33:13.439Z"
   },
   {
    "duration": 14,
    "start_time": "2023-02-20T22:33:44.480Z"
   },
   {
    "duration": 16,
    "start_time": "2023-02-20T22:34:56.755Z"
   },
   {
    "duration": 1060,
    "start_time": "2023-02-20T22:35:18.606Z"
   },
   {
    "duration": 67,
    "start_time": "2023-02-20T22:35:19.668Z"
   },
   {
    "duration": 9,
    "start_time": "2023-02-20T22:35:19.736Z"
   },
   {
    "duration": 13,
    "start_time": "2023-02-20T22:35:19.747Z"
   },
   {
    "duration": 44,
    "start_time": "2023-02-20T22:35:19.763Z"
   },
   {
    "duration": 11,
    "start_time": "2023-02-20T22:35:19.809Z"
   },
   {
    "duration": 57,
    "start_time": "2023-02-20T22:35:19.822Z"
   },
   {
    "duration": 61,
    "start_time": "2023-02-20T22:35:19.881Z"
   },
   {
    "duration": 49623,
    "start_time": "2023-02-20T22:35:19.944Z"
   },
   {
    "duration": 37,
    "start_time": "2023-02-20T22:36:09.569Z"
   },
   {
    "duration": 376,
    "start_time": "2023-02-20T22:36:09.693Z"
   },
   {
    "duration": 109,
    "start_time": "2023-02-20T22:36:10.071Z"
   },
   {
    "duration": 183,
    "start_time": "2023-02-20T22:36:10.181Z"
   },
   {
    "duration": 126,
    "start_time": "2023-02-20T22:36:10.367Z"
   },
   {
    "duration": 102,
    "start_time": "2023-02-20T22:36:10.495Z"
   },
   {
    "duration": 101,
    "start_time": "2023-02-20T22:36:10.599Z"
   },
   {
    "duration": 106,
    "start_time": "2023-02-20T22:36:10.701Z"
   },
   {
    "duration": 6,
    "start_time": "2023-02-20T22:36:10.808Z"
   },
   {
    "duration": 6,
    "start_time": "2023-02-20T22:36:10.815Z"
   },
   {
    "duration": 9,
    "start_time": "2023-02-20T22:36:10.823Z"
   },
   {
    "duration": 7,
    "start_time": "2023-02-20T22:36:10.833Z"
   },
   {
    "duration": 15,
    "start_time": "2023-02-20T22:36:10.842Z"
   },
   {
    "duration": 13,
    "start_time": "2023-02-20T22:36:10.858Z"
   },
   {
    "duration": 28,
    "start_time": "2023-02-20T22:36:10.873Z"
   },
   {
    "duration": 8,
    "start_time": "2023-02-20T22:36:10.902Z"
   },
   {
    "duration": 2,
    "start_time": "2023-02-20T22:36:10.912Z"
   },
   {
    "duration": 85,
    "start_time": "2023-02-20T22:36:10.916Z"
   },
   {
    "duration": 89,
    "start_time": "2023-02-20T22:36:11.004Z"
   },
   {
    "duration": 123,
    "start_time": "2023-02-20T22:36:11.095Z"
   },
   {
    "duration": 49097,
    "start_time": "2023-02-20T22:36:11.220Z"
   },
   {
    "duration": 281,
    "start_time": "2023-02-20T22:37:00.319Z"
   },
   {
    "duration": 133,
    "start_time": "2023-02-20T22:37:00.602Z"
   },
   {
    "duration": 154,
    "start_time": "2023-02-20T22:37:00.738Z"
   },
   {
    "duration": 103,
    "start_time": "2023-02-20T22:37:00.894Z"
   },
   {
    "duration": 66094,
    "start_time": "2023-02-20T22:37:00.998Z"
   },
   {
    "duration": 406,
    "start_time": "2023-02-20T22:38:07.094Z"
   },
   {
    "duration": 109,
    "start_time": "2023-02-20T22:38:07.502Z"
   },
   {
    "duration": 82,
    "start_time": "2023-02-20T22:38:07.614Z"
   },
   {
    "duration": 124,
    "start_time": "2023-02-20T22:38:07.709Z"
   },
   {
    "duration": 11,
    "start_time": "2023-02-20T22:38:07.835Z"
   },
   {
    "duration": 22,
    "start_time": "2023-02-20T22:46:36.016Z"
   },
   {
    "duration": 1034,
    "start_time": "2023-02-20T22:48:28.420Z"
   },
   {
    "duration": 66,
    "start_time": "2023-02-20T22:48:29.456Z"
   },
   {
    "duration": 9,
    "start_time": "2023-02-20T22:48:29.524Z"
   },
   {
    "duration": 12,
    "start_time": "2023-02-20T22:48:29.535Z"
   },
   {
    "duration": 19,
    "start_time": "2023-02-20T22:48:29.549Z"
   },
   {
    "duration": 9,
    "start_time": "2023-02-20T22:48:29.591Z"
   },
   {
    "duration": 24,
    "start_time": "2023-02-20T22:48:29.602Z"
   },
   {
    "duration": 81,
    "start_time": "2023-02-20T22:48:29.627Z"
   },
   {
    "duration": 48597,
    "start_time": "2023-02-20T22:48:29.709Z"
   },
   {
    "duration": 185,
    "start_time": "2023-02-20T22:49:18.307Z"
   },
   {
    "duration": 418,
    "start_time": "2023-02-20T22:49:18.494Z"
   },
   {
    "duration": 115,
    "start_time": "2023-02-20T22:49:18.913Z"
   },
   {
    "duration": 168,
    "start_time": "2023-02-20T22:49:19.030Z"
   },
   {
    "duration": 113,
    "start_time": "2023-02-20T22:49:19.201Z"
   },
   {
    "duration": 105,
    "start_time": "2023-02-20T22:49:19.316Z"
   },
   {
    "duration": 100,
    "start_time": "2023-02-20T22:49:19.423Z"
   },
   {
    "duration": 103,
    "start_time": "2023-02-20T22:49:19.524Z"
   },
   {
    "duration": 5,
    "start_time": "2023-02-20T22:49:19.628Z"
   },
   {
    "duration": 4,
    "start_time": "2023-02-20T22:49:19.635Z"
   },
   {
    "duration": 9,
    "start_time": "2023-02-20T22:49:19.640Z"
   },
   {
    "duration": 5,
    "start_time": "2023-02-20T22:49:19.650Z"
   },
   {
    "duration": 5,
    "start_time": "2023-02-20T22:49:19.657Z"
   },
   {
    "duration": 32,
    "start_time": "2023-02-20T22:49:19.664Z"
   },
   {
    "duration": 7,
    "start_time": "2023-02-20T22:49:19.698Z"
   },
   {
    "duration": 8,
    "start_time": "2023-02-20T22:49:19.706Z"
   },
   {
    "duration": 3,
    "start_time": "2023-02-20T22:49:19.715Z"
   },
   {
    "duration": 72,
    "start_time": "2023-02-20T22:49:19.719Z"
   },
   {
    "duration": 9,
    "start_time": "2023-02-20T22:49:19.795Z"
   },
   {
    "duration": 162,
    "start_time": "2023-02-20T22:49:19.806Z"
   },
   {
    "duration": 48736,
    "start_time": "2023-02-20T22:49:19.970Z"
   },
   {
    "duration": 296,
    "start_time": "2023-02-20T22:50:08.708Z"
   },
   {
    "duration": 123,
    "start_time": "2023-02-20T22:50:09.093Z"
   },
   {
    "duration": 179,
    "start_time": "2023-02-20T22:50:09.218Z"
   },
   {
    "duration": 76,
    "start_time": "2023-02-20T22:50:09.398Z"
   },
   {
    "duration": 63635,
    "start_time": "2023-02-20T22:50:09.491Z"
   },
   {
    "duration": 365,
    "start_time": "2023-02-20T22:51:13.127Z"
   },
   {
    "duration": 38,
    "start_time": "2023-02-20T22:51:13.494Z"
   },
   {
    "duration": 3,
    "start_time": "2023-02-20T22:51:13.593Z"
   },
   {
    "duration": 140,
    "start_time": "2023-02-20T22:51:13.598Z"
   },
   {
    "duration": 9,
    "start_time": "2023-02-20T22:51:13.740Z"
   }
  ],
  "kernelspec": {
   "display_name": "Python 3 (ipykernel)",
   "language": "python",
   "name": "python3"
  },
  "language_info": {
   "codemirror_mode": {
    "name": "ipython",
    "version": 3
   },
   "file_extension": ".py",
   "mimetype": "text/x-python",
   "name": "python",
   "nbconvert_exporter": "python",
   "pygments_lexer": "ipython3",
   "version": "3.9.12"
  },
  "toc": {
   "base_numbering": 1,
   "nav_menu": {},
   "number_sections": true,
   "sideBar": true,
   "skip_h1_title": true,
   "title_cell": "Содержание",
   "title_sidebar": "Contents",
   "toc_cell": true,
   "toc_position": {
    "height": "calc(100% - 180px)",
    "left": "10px",
    "top": "150px",
    "width": "366.188px"
   },
   "toc_section_display": true,
   "toc_window_display": true
  }
 },
 "nbformat": 4,
 "nbformat_minor": 2
}
